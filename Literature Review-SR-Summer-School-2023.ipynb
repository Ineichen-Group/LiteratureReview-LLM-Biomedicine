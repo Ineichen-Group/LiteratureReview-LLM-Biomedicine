{
 "cells": [
  {
   "cell_type": "code",
   "execution_count": 769,
   "id": "c4522f04-2885-41c4-b166-a33c9d447a2c",
   "metadata": {},
   "outputs": [],
   "source": [
    "import pandas as pd\n",
    "import seaborn as sns\n",
    "import matplotlib.pyplot as plt"
   ]
  },
  {
   "cell_type": "code",
   "execution_count": 770,
   "id": "cd6dab2b-f062-412f-9f1d-07bd0c9b242b",
   "metadata": {},
   "outputs": [],
   "source": [
    "import openai"
   ]
  },
  {
   "cell_type": "code",
   "execution_count": 771,
   "id": "c1c8a399-8e65-4424-9f3e-00e32b06057c",
   "metadata": {},
   "outputs": [
    {
     "data": {
      "text/plain": [
       "'0.27.8'"
      ]
     },
     "execution_count": 771,
     "metadata": {},
     "output_type": "execute_result"
    }
   ],
   "source": [
    "openai.__version__"
   ]
  },
  {
   "cell_type": "code",
   "execution_count": 772,
   "id": "a4b9e6b0-45bc-4319-9b81-0c0283b81c52",
   "metadata": {},
   "outputs": [
    {
     "data": {
      "text/html": [
       "        <script type=\"text/javascript\">\n",
       "        window.PlotlyConfig = {MathJaxConfig: 'local'};\n",
       "        if (window.MathJax && window.MathJax.Hub && window.MathJax.Hub.Config) {window.MathJax.Hub.Config({SVG: {font: \"STIX-Web\"}});}\n",
       "        if (typeof require !== 'undefined') {\n",
       "        require.undef(\"plotly\");\n",
       "        requirejs.config({\n",
       "            paths: {\n",
       "                'plotly': ['https://cdn.plot.ly/plotly-2.24.1.min']\n",
       "            }\n",
       "        });\n",
       "        require(['plotly'], function(Plotly) {\n",
       "            window._Plotly = Plotly;\n",
       "        });\n",
       "        }\n",
       "        </script>\n",
       "        "
      ]
     },
     "metadata": {},
     "output_type": "display_data"
    }
   ],
   "source": [
    "import numpy as np\n",
    "from webcolors import hex_to_rgb\n",
    "%matplotlib inline\n",
    "\n",
    "from plotly.offline import download_plotlyjs, init_notebook_mode, plot, iplot\n",
    "\n",
    "init_notebook_mode(connected=True)  "
   ]
  },
  {
   "cell_type": "markdown",
   "id": "27ad9b0d-0b00-4a73-b6b2-7e60f41f9547",
   "metadata": {},
   "source": [
    "## Load Data"
   ]
  },
  {
   "cell_type": "code",
   "execution_count": 773,
   "id": "0caea097-c472-4ca9-808b-f9437feeab52",
   "metadata": {},
   "outputs": [],
   "source": [
    "def load_raw_data():\n",
    "    df_pubmed = pd.read_excel(\"data/Scoping_review_text-analysis_extraction_2024.xlsx\", sheet_name=\"Harmonized Information Extracti\")\n",
    "    df_pubmed['publication_type'] = \"biomedical_journal\"\n",
    "    df_acl = pd.read_excel(\"data/Scoping_review_text-analysis_extraction_2024.xlsx\", sheet_name=\"ACLEMNLP Google Scholar\")\n",
    "    df_acl['publication_type'] = \"nlp_venue\"\n",
    "    return df_pubmed, df_acl"
   ]
  },
  {
   "cell_type": "code",
   "execution_count": 774,
   "id": "448673dc-7f47-48df-91f7-9a0e3406c044",
   "metadata": {},
   "outputs": [],
   "source": [
    "df_pubmed, df_acl = load_raw_data()"
   ]
  },
  {
   "cell_type": "code",
   "execution_count": 775,
   "id": "693decac-c2d9-4344-a870-557a43828db3",
   "metadata": {},
   "outputs": [],
   "source": [
    "def load_raw_data_included_all():\n",
    "    df_pubmed, df_acl = load_raw_data()\n",
    "    df_included = df_pubmed[df_pubmed['Included'] == 1.0]\n",
    "    df_acl_included = df_acl[df_acl['Included'] == 1.0]\n",
    "    df = pd.concat([df_included, df_acl_included], ignore_index=True)\n",
    "    df['year'] = df['year'].astype(int)\n",
    "    print(df_pubmed.shape, df_included.shape, df_acl.shape, df_acl_included.shape)\n",
    "    return df"
   ]
  },
  {
   "cell_type": "code",
   "execution_count": 777,
   "id": "512691c5-c1bd-4dcd-a5bd-fd298a245dff",
   "metadata": {},
   "outputs": [],
   "source": [
    "df_2024 = pd.read_excel(\"data/Scoping_review_text-analysis_extraction_2024.xlsx\", sheet_name=\"SED Version Sijing Extractions \")\n",
    "## ALIGN WITH PREVIOUS NAMES\n",
    "# Replace 'Association for Computational Linguistics' with 'ACL'\n",
    "df_2024['journal'] = df_2024['journal'].str.replace('Association for Computational Linguistics', 'ACL', regex=False)\n",
    "df_2024['journal'] = df_2024['journal'].str.replace('BMC bioinformatics', 'BMC Bioinformatics', regex=False)\n",
    "df_2024['journal'] = df_2024['journal'].str.replace('Frontiers in psychiatry', 'Frontiers in Psychiatry', regex=False)\n",
    "\n",
    "# Replace 'ACL Findings' followed by any characters with 'ACL/Findings'\n",
    "df_2024['journal'] = df_2024['journal'].str.replace(r'ACL Findings.*', 'ACL/ Findings', regex=True)\n",
    "df_2024['journal'] = df_2024['journal'].str.replace(r'Findings of the ACL.*', 'ACL/ Findings', regex=True)\n",
    "\n",
    "df_2024['journal'] = df_2024['journal'].str.replace(r'EMNLP.*', 'EMNLP', regex=True)\n"
   ]
  },
  {
   "cell_type": "code",
   "execution_count": 743,
   "id": "5c1ae3a3-7114-4d0d-a8a2-221656834344",
   "metadata": {},
   "outputs": [],
   "source": [
    "df_2024['publication_type'] = np.where(\n",
    "    df_2024['journal'].str.contains('EMNLP|ACL'), \n",
    "    'nlp_venue', \n",
    "    'biomedical_journal'\n",
    ")"
   ]
  },
  {
   "cell_type": "code",
   "execution_count": 744,
   "id": "eb54d94e-1b47-49eb-aa0d-37ae4923c81d",
   "metadata": {},
   "outputs": [
    {
     "name": "stderr",
     "output_type": "stream",
     "text": [
      "/Users/donevas/opt/miniconda3/lib/python3.9/site-packages/pandas/core/indexing.py:1773: SettingWithCopyWarning:\n",
      "\n",
      "\n",
      "A value is trying to be set on a copy of a slice from a DataFrame.\n",
      "Try using .loc[row_indexer,col_indexer] = value instead\n",
      "\n",
      "See the caveats in the documentation: https://pandas.pydata.org/pandas-docs/stable/user_guide/indexing.html#returning-a-view-versus-a-copy\n",
      "\n"
     ]
    }
   ],
   "source": [
    "df_2024_included = df_2024[df_2024['Included'] == 1.0]\n",
    "df_2024_included.loc[:, 'year'] = df_2024_included['year'].astype(int)\n"
   ]
  },
  {
   "cell_type": "code",
   "execution_count": 745,
   "id": "60453d3b-a38a-4a6a-8437-f0c3c3dc284a",
   "metadata": {},
   "outputs": [
    {
     "data": {
      "text/plain": [
       "{'ACL/ Findings',\n",
       " 'Artificial Intelligence in the Life Sciences',\n",
       " 'Artificial intelligence in medicine',\n",
       " 'BMC Bioinformatics',\n",
       " 'BMC Medical Informatics and Decision Making',\n",
       " 'BMJ Health & Care Informatics',\n",
       " 'Bioinformatics',\n",
       " 'Chemical Research in Toxicology',\n",
       " 'Frontiers in Genetics',\n",
       " 'Frontiers in Neuroinformatics',\n",
       " 'Frontiers in Pharmacology',\n",
       " 'Frontiers in Psychiatry',\n",
       " 'Genes & Genomics',\n",
       " 'Indian Dermatology Online Journal',\n",
       " 'Informatics in Medicine Unlocked',\n",
       " 'Journal of Biomedical Informatics',\n",
       " 'Journal of Biomedical Semantics',\n",
       " 'Journal of Computational Biology',\n",
       " 'Journal of Medical Internet Research',\n",
       " 'Journal of the American Heart Association',\n",
       " 'Journal of the American Medical Informatics Association',\n",
       " 'Molecular & Cellular Proteomics',\n",
       " 'Neurocomputing',\n",
       " 'Plos one',\n",
       " 'Proceedings of the 68th Annual Meeting of the German Association of Medical Informatics, Biometry, and Epidemiology',\n",
       " 'Radiology',\n",
       " 'Scientific Reports',\n",
       " 'Systematic Reviews',\n",
       " 'The 22nd Workshop on Biomedical Natural Language Processing and BioNLP Shared Tasks',\n",
       " 'bioRxiv',\n",
       " 'medRxiv'}"
      ]
     },
     "execution_count": 745,
     "metadata": {},
     "output_type": "execute_result"
    }
   ],
   "source": [
    "set(df_2024_included['journal'])"
   ]
  },
  {
   "cell_type": "code",
   "execution_count": 746,
   "id": "f576480e-ee84-42c7-9347-08caf17b300e",
   "metadata": {},
   "outputs": [
    {
     "data": {
      "text/plain": [
       "publication_type\n",
       "biomedical_journal    49\n",
       "nlp_venue             10\n",
       "Name: title, dtype: int64"
      ]
     },
     "execution_count": 746,
     "metadata": {},
     "output_type": "execute_result"
    }
   ],
   "source": [
    "df_2024_included.groupby(\"publication_type\")[\"title\"].count()"
   ]
  },
  {
   "cell_type": "code",
   "execution_count": 747,
   "id": "3c3e215d-d081-4f5f-9da4-627a192dd9bc",
   "metadata": {},
   "outputs": [
    {
     "name": "stdout",
     "output_type": "stream",
     "text": [
      "(504, 71) (89, 71) (491, 68) (51, 68)\n"
     ]
    }
   ],
   "source": [
    "df = load_raw_data_included_all()"
   ]
  },
  {
   "cell_type": "code",
   "execution_count": 748,
   "id": "4eaffe3b-944a-4c9f-a1a5-80addac29f73",
   "metadata": {},
   "outputs": [],
   "source": [
    "df = pd.concat([df, df_2024_included], ignore_index=True)"
   ]
  },
  {
   "cell_type": "code",
   "execution_count": 749,
   "id": "a8aa6bbc-38e0-42bc-b553-2349178bb105",
   "metadata": {},
   "outputs": [
    {
     "data": {
      "text/plain": [
       "(199, 73)"
      ]
     },
     "execution_count": 749,
     "metadata": {},
     "output_type": "execute_result"
    }
   ],
   "source": [
    "df.shape"
   ]
  },
  {
   "cell_type": "code",
   "execution_count": 750,
   "id": "3d17770a-e321-4ebe-b592-28d60ac44e58",
   "metadata": {},
   "outputs": [
    {
     "data": {
      "text/plain": [
       "publication_type\n",
       "biomedical_journal    138\n",
       "nlp_venue              61\n",
       "Name: title, dtype: int64"
      ]
     },
     "execution_count": 750,
     "metadata": {},
     "output_type": "execute_result"
    }
   ],
   "source": [
    "df.groupby(\"publication_type\")[\"title\"].count()"
   ]
  },
  {
   "cell_type": "code",
   "execution_count": 515,
   "id": "15749ca8-e448-4328-9d58-505f18dbd562",
   "metadata": {},
   "outputs": [
    {
     "data": {
      "text/html": [
       "<div>\n",
       "<style scoped>\n",
       "    .dataframe tbody tr th:only-of-type {\n",
       "        vertical-align: middle;\n",
       "    }\n",
       "\n",
       "    .dataframe tbody tr th {\n",
       "        vertical-align: top;\n",
       "    }\n",
       "\n",
       "    .dataframe thead th {\n",
       "        text-align: right;\n",
       "    }\n",
       "</style>\n",
       "<table border=\"1\" class=\"dataframe\">\n",
       "  <thead>\n",
       "    <tr style=\"text-align: right;\">\n",
       "      <th></th>\n",
       "      <th>author</th>\n",
       "      <th>doi</th>\n",
       "      <th>Link to paper</th>\n",
       "      <th>title</th>\n",
       "      <th>journal</th>\n",
       "      <th>year</th>\n",
       "      <th>Extracted by</th>\n",
       "      <th>Included</th>\n",
       "      <th>Reason for exclusion</th>\n",
       "      <th>Target application</th>\n",
       "      <th>...</th>\n",
       "      <th>n1</th>\n",
       "      <th>ST</th>\n",
       "      <th>m1</th>\n",
       "      <th>c5</th>\n",
       "      <th>c2</th>\n",
       "      <th>c1</th>\n",
       "      <th>OP</th>\n",
       "      <th>publication_type</th>\n",
       "      <th>Unnamed: 40</th>\n",
       "      <th>Unnamed: 32</th>\n",
       "    </tr>\n",
       "  </thead>\n",
       "  <tbody>\n",
       "    <tr>\n",
       "      <th>0</th>\n",
       "      <td>Abdelkader, W. and Navarro, T. and Parrish, R....</td>\n",
       "      <td>10.2196/29398</td>\n",
       "      <td>https://doi.org/10.2196/29398</td>\n",
       "      <td>A Deep Learning Approach to Refine the Identif...</td>\n",
       "      <td>JMIR Research Protocols</td>\n",
       "      <td>2021</td>\n",
       "      <td>BVI</td>\n",
       "      <td>1.0</td>\n",
       "      <td>NaN</td>\n",
       "      <td>Text Classification</td>\n",
       "      <td>...</td>\n",
       "      <td>Abdelkader, Wael Navarro, Tamara Parrish, Rick...</td>\n",
       "      <td>A Deep Learning Approach to Refine the Identif...</td>\n",
       "      <td>NaN</td>\n",
       "      <td>NaN</td>\n",
       "      <td>NaN</td>\n",
       "      <td>NaN</td>\n",
       "      <td>NaN</td>\n",
       "      <td>biomedical_journal</td>\n",
       "      <td>NaN</td>\n",
       "      <td>NaN</td>\n",
       "    </tr>\n",
       "    <tr>\n",
       "      <th>1</th>\n",
       "      <td>Alachram, H. and Chereda, H. and Beisbarth, T....</td>\n",
       "      <td>10.1371/journal.pone.0258623</td>\n",
       "      <td>https://doi.org/10.1371/journal.pone.0258623</td>\n",
       "      <td>Text mining-based word representations for bio...</td>\n",
       "      <td>PLoS ONE [Electronic Resource]</td>\n",
       "      <td>2021</td>\n",
       "      <td>BVI</td>\n",
       "      <td>1.0</td>\n",
       "      <td>NaN</td>\n",
       "      <td>Information Extraction</td>\n",
       "      <td>...</td>\n",
       "      <td>Alachram, Halima Chereda, Hryhorii Beisbarth, ...</td>\n",
       "      <td>Text mining-based word representations for bio...</td>\n",
       "      <td>NaN</td>\n",
       "      <td>NaN</td>\n",
       "      <td>NaN</td>\n",
       "      <td>NaN</td>\n",
       "      <td>NaN</td>\n",
       "      <td>biomedical_journal</td>\n",
       "      <td>NaN</td>\n",
       "      <td>NaN</td>\n",
       "    </tr>\n",
       "    <tr>\n",
       "      <th>2</th>\n",
       "      <td>Ambalavanan, A. K. and Devarakonda, M. V.</td>\n",
       "      <td>10.1016/j.jbi.2020.103578</td>\n",
       "      <td>https://doi.org/10.1016/j.jbi.2020.103578</td>\n",
       "      <td>Using the contextual language model BERT for m...</td>\n",
       "      <td>Journal of Biomedical Informatics</td>\n",
       "      <td>2020</td>\n",
       "      <td>BVI</td>\n",
       "      <td>1.0</td>\n",
       "      <td>NaN</td>\n",
       "      <td>Text Classification</td>\n",
       "      <td>...</td>\n",
       "      <td>Ambalavanan, Ashwin Karthik Devarakonda, Murth...</td>\n",
       "      <td>Using the contextual language model BERT for m...</td>\n",
       "      <td>NaN</td>\n",
       "      <td>NaN</td>\n",
       "      <td>NaN</td>\n",
       "      <td>NaN</td>\n",
       "      <td>NaN</td>\n",
       "      <td>biomedical_journal</td>\n",
       "      <td>NaN</td>\n",
       "      <td>NaN</td>\n",
       "    </tr>\n",
       "  </tbody>\n",
       "</table>\n",
       "<p>3 rows × 73 columns</p>\n",
       "</div>"
      ],
      "text/plain": [
       "                                              author  \\\n",
       "0  Abdelkader, W. and Navarro, T. and Parrish, R....   \n",
       "1  Alachram, H. and Chereda, H. and Beisbarth, T....   \n",
       "2          Ambalavanan, A. K. and Devarakonda, M. V.   \n",
       "\n",
       "                            doi                                 Link to paper  \\\n",
       "0                 10.2196/29398                 https://doi.org/10.2196/29398   \n",
       "1  10.1371/journal.pone.0258623  https://doi.org/10.1371/journal.pone.0258623   \n",
       "2     10.1016/j.jbi.2020.103578     https://doi.org/10.1016/j.jbi.2020.103578   \n",
       "\n",
       "                                               title  \\\n",
       "0  A Deep Learning Approach to Refine the Identif...   \n",
       "1  Text mining-based word representations for bio...   \n",
       "2  Using the contextual language model BERT for m...   \n",
       "\n",
       "                             journal  year Extracted by Included  \\\n",
       "0            JMIR Research Protocols  2021          BVI      1.0   \n",
       "1     PLoS ONE [Electronic Resource]  2021          BVI      1.0   \n",
       "2  Journal of Biomedical Informatics  2020          BVI      1.0   \n",
       "\n",
       "  Reason for exclusion      Target application  ...  \\\n",
       "0                  NaN     Text Classification  ...   \n",
       "1                  NaN  Information Extraction  ...   \n",
       "2                  NaN     Text Classification  ...   \n",
       "\n",
       "                                                  n1  \\\n",
       "0  Abdelkader, Wael Navarro, Tamara Parrish, Rick...   \n",
       "1  Alachram, Halima Chereda, Hryhorii Beisbarth, ...   \n",
       "2  Ambalavanan, Ashwin Karthik Devarakonda, Murth...   \n",
       "\n",
       "                                                  ST   m1  c5  c2  c1  OP  \\\n",
       "0  A Deep Learning Approach to Refine the Identif...  NaN NaN NaN NaN NaN   \n",
       "1  Text mining-based word representations for bio...  NaN NaN NaN NaN NaN   \n",
       "2  Using the contextual language model BERT for m...  NaN NaN NaN NaN NaN   \n",
       "\n",
       "     publication_type Unnamed: 40 Unnamed: 32  \n",
       "0  biomedical_journal         NaN         NaN  \n",
       "1  biomedical_journal         NaN         NaN  \n",
       "2  biomedical_journal         NaN         NaN  \n",
       "\n",
       "[3 rows x 73 columns]"
      ]
     },
     "execution_count": 515,
     "metadata": {},
     "output_type": "execute_result"
    }
   ],
   "source": [
    "df.head(3)"
   ]
  },
  {
   "cell_type": "markdown",
   "id": "3be3e8b8-70c1-4ef7-9332-1f711dfa748b",
   "metadata": {},
   "source": [
    "### random sample for a pilot with student"
   ]
  },
  {
   "cell_type": "code",
   "execution_count": 138,
   "id": "639704b1-7ab0-4783-ab78-b04bc73580e8",
   "metadata": {},
   "outputs": [
    {
     "data": {
      "text/html": [
       "<div>\n",
       "<style scoped>\n",
       "    .dataframe tbody tr th:only-of-type {\n",
       "        vertical-align: middle;\n",
       "    }\n",
       "\n",
       "    .dataframe tbody tr th {\n",
       "        vertical-align: top;\n",
       "    }\n",
       "\n",
       "    .dataframe thead th {\n",
       "        text-align: right;\n",
       "    }\n",
       "</style>\n",
       "<table border=\"1\" class=\"dataframe\">\n",
       "  <thead>\n",
       "    <tr style=\"text-align: right;\">\n",
       "      <th></th>\n",
       "      <th>author</th>\n",
       "      <th>doi</th>\n",
       "      <th>Link to paper</th>\n",
       "      <th>title</th>\n",
       "      <th>journal</th>\n",
       "      <th>year</th>\n",
       "      <th>Extracted by</th>\n",
       "      <th>Included</th>\n",
       "      <th>Reason for exclusion</th>\n",
       "      <th>Target application</th>\n",
       "      <th>...</th>\n",
       "      <th>m3</th>\n",
       "      <th>n1</th>\n",
       "      <th>ST</th>\n",
       "      <th>m1</th>\n",
       "      <th>c5</th>\n",
       "      <th>c2</th>\n",
       "      <th>c1</th>\n",
       "      <th>OP</th>\n",
       "      <th>publication_type</th>\n",
       "      <th>Unnamed: 40</th>\n",
       "    </tr>\n",
       "  </thead>\n",
       "  <tbody>\n",
       "    <tr>\n",
       "      <th>219</th>\n",
       "      <td>Li, D. and Xiong, Y. and Hu, B. and Tang, B. a...</td>\n",
       "      <td>10.1186/s12911-021-01614-7</td>\n",
       "      <td>https://doi.org/10.1186/s12911-021-01614-7</td>\n",
       "      <td>Drug knowledge discovery via multi-task learni...</td>\n",
       "      <td>BMC Medical Informatics &amp; Decision Making</td>\n",
       "      <td>2021.0</td>\n",
       "      <td>SDO</td>\n",
       "      <td>1.0</td>\n",
       "      <td>NaN</td>\n",
       "      <td>Information Extraction</td>\n",
       "      <td>...</td>\n",
       "      <td>Research Support, Non-U.S. Gov't</td>\n",
       "      <td>Li, Dongfang Xiong, Ying Hu, Baotian Tang, Buz...</td>\n",
       "      <td>Drug knowledge discovery via multi-task learni...</td>\n",
       "      <td>NaN</td>\n",
       "      <td>NaN</td>\n",
       "      <td>NaN</td>\n",
       "      <td>NaN</td>\n",
       "      <td>NaN</td>\n",
       "      <td>biomedical_journal</td>\n",
       "      <td>NaN</td>\n",
       "    </tr>\n",
       "    <tr>\n",
       "      <th>265</th>\n",
       "      <td>Martenot, V. and Masdeu, V. and Cupe, J. and G...</td>\n",
       "      <td>10.1186/s12911-022-02085-0</td>\n",
       "      <td>https://doi.org/10.1186/s12911-022-02085-0</td>\n",
       "      <td>LiSA: an assisted literature search pipeline f...</td>\n",
       "      <td>BMC Medical Informatics &amp; Decision Making</td>\n",
       "      <td>2022.0</td>\n",
       "      <td>SDO</td>\n",
       "      <td>1.0</td>\n",
       "      <td>NaN</td>\n",
       "      <td>Information Retrieval</td>\n",
       "      <td>...</td>\n",
       "      <td>Research Support, Non-U.S. Gov't</td>\n",
       "      <td>Martenot, Vincent Masdeu, Valentin Cupe, Jean ...</td>\n",
       "      <td>LiSA: an assisted literature search pipeline f...</td>\n",
       "      <td>NaN</td>\n",
       "      <td>NaN</td>\n",
       "      <td>NaN</td>\n",
       "      <td>NaN</td>\n",
       "      <td>NaN</td>\n",
       "      <td>biomedical_journal</td>\n",
       "      <td>NaN</td>\n",
       "    </tr>\n",
       "    <tr>\n",
       "      <th>166</th>\n",
       "      <td>Ji, Z. and Wei, Q. and Xu, H.</td>\n",
       "      <td>NaN</td>\n",
       "      <td>https://doi.org/</td>\n",
       "      <td>BERT-based Ranking for Biomedical Entity Norma...</td>\n",
       "      <td>AMIA Summits on Translational Science Proceedings</td>\n",
       "      <td>2020.0</td>\n",
       "      <td>SDO</td>\n",
       "      <td>1.0</td>\n",
       "      <td>NaN</td>\n",
       "      <td>Entity Normalization/Linking</td>\n",
       "      <td>...</td>\n",
       "      <td>NaN</td>\n",
       "      <td>Ji, Zongcheng Wei, Qiang Xu, Hua and ASReview_...</td>\n",
       "      <td>BERT-based Ranking for Biomedical Entity Norma...</td>\n",
       "      <td>NaN</td>\n",
       "      <td>NaN</td>\n",
       "      <td>NaN</td>\n",
       "      <td>NaN</td>\n",
       "      <td>NaN</td>\n",
       "      <td>biomedical_journal</td>\n",
       "      <td>NaN</td>\n",
       "    </tr>\n",
       "    <tr>\n",
       "      <th>132</th>\n",
       "      <td>['Liu, Z.', 'Xiong, C.', 'Dai, Z.', 'Sun, S.',...</td>\n",
       "      <td>10.18653/v1/2020.findings-emnlp.216</td>\n",
       "      <td>https://aclanthology.org/2020.findings-emnlp.2...</td>\n",
       "      <td>Adapting open domain fact extraction and verif...</td>\n",
       "      <td>Association for Computational Linguistics/ Fin...</td>\n",
       "      <td>2020.0</td>\n",
       "      <td>SDO</td>\n",
       "      <td>1.0</td>\n",
       "      <td>NaN</td>\n",
       "      <td>Fact Verification</td>\n",
       "      <td>...</td>\n",
       "      <td>NaN</td>\n",
       "      <td>NaN</td>\n",
       "      <td>NaN</td>\n",
       "      <td>NaN</td>\n",
       "      <td>NaN</td>\n",
       "      <td>NaN</td>\n",
       "      <td>NaN</td>\n",
       "      <td>NaN</td>\n",
       "      <td>nlp_venue</td>\n",
       "      <td>NaN</td>\n",
       "    </tr>\n",
       "    <tr>\n",
       "      <th>256</th>\n",
       "      <td>['Lu, Q.', 'Dou, D.', 'Nguyen, T.']</td>\n",
       "      <td>NaN</td>\n",
       "      <td>https://aclanthology.org/2022.findings-emnlp.3...</td>\n",
       "      <td>ClinicalT5: A generative language model for cl...</td>\n",
       "      <td>Association for Computational Linguistics/ Fin...</td>\n",
       "      <td>2022.0</td>\n",
       "      <td>SDO</td>\n",
       "      <td>1.0</td>\n",
       "      <td>NaN</td>\n",
       "      <td>Multi-Domain</td>\n",
       "      <td>...</td>\n",
       "      <td>NaN</td>\n",
       "      <td>NaN</td>\n",
       "      <td>NaN</td>\n",
       "      <td>NaN</td>\n",
       "      <td>NaN</td>\n",
       "      <td>NaN</td>\n",
       "      <td>NaN</td>\n",
       "      <td>NaN</td>\n",
       "      <td>nlp_venue</td>\n",
       "      <td>NaN</td>\n",
       "    </tr>\n",
       "  </tbody>\n",
       "</table>\n",
       "<p>5 rows × 72 columns</p>\n",
       "</div>"
      ],
      "text/plain": [
       "                                                author  \\\n",
       "219  Li, D. and Xiong, Y. and Hu, B. and Tang, B. a...   \n",
       "265  Martenot, V. and Masdeu, V. and Cupe, J. and G...   \n",
       "166                      Ji, Z. and Wei, Q. and Xu, H.   \n",
       "132  ['Liu, Z.', 'Xiong, C.', 'Dai, Z.', 'Sun, S.',...   \n",
       "256                ['Lu, Q.', 'Dou, D.', 'Nguyen, T.']   \n",
       "\n",
       "                                     doi  \\\n",
       "219           10.1186/s12911-021-01614-7   \n",
       "265           10.1186/s12911-022-02085-0   \n",
       "166                                  NaN   \n",
       "132  10.18653/v1/2020.findings-emnlp.216   \n",
       "256                                  NaN   \n",
       "\n",
       "                                         Link to paper  \\\n",
       "219         https://doi.org/10.1186/s12911-021-01614-7   \n",
       "265         https://doi.org/10.1186/s12911-022-02085-0   \n",
       "166                                   https://doi.org/   \n",
       "132  https://aclanthology.org/2020.findings-emnlp.2...   \n",
       "256  https://aclanthology.org/2022.findings-emnlp.3...   \n",
       "\n",
       "                                                 title  \\\n",
       "219  Drug knowledge discovery via multi-task learni...   \n",
       "265  LiSA: an assisted literature search pipeline f...   \n",
       "166  BERT-based Ranking for Biomedical Entity Norma...   \n",
       "132  Adapting open domain fact extraction and verif...   \n",
       "256  ClinicalT5: A generative language model for cl...   \n",
       "\n",
       "                                               journal    year Extracted by  \\\n",
       "219          BMC Medical Informatics & Decision Making  2021.0          SDO   \n",
       "265          BMC Medical Informatics & Decision Making  2022.0          SDO   \n",
       "166  AMIA Summits on Translational Science Proceedings  2020.0          SDO   \n",
       "132  Association for Computational Linguistics/ Fin...  2020.0          SDO   \n",
       "256  Association for Computational Linguistics/ Fin...  2022.0          SDO   \n",
       "\n",
       "    Included Reason for exclusion            Target application  ...  \\\n",
       "219      1.0                  NaN        Information Extraction  ...   \n",
       "265      1.0                  NaN         Information Retrieval  ...   \n",
       "166      1.0                  NaN  Entity Normalization/Linking  ...   \n",
       "132      1.0                  NaN             Fact Verification  ...   \n",
       "256      1.0                  NaN                  Multi-Domain  ...   \n",
       "\n",
       "                                   m3  \\\n",
       "219  Research Support, Non-U.S. Gov't   \n",
       "265  Research Support, Non-U.S. Gov't   \n",
       "166                               NaN   \n",
       "132                               NaN   \n",
       "256                               NaN   \n",
       "\n",
       "                                                    n1  \\\n",
       "219  Li, Dongfang Xiong, Ying Hu, Baotian Tang, Buz...   \n",
       "265  Martenot, Vincent Masdeu, Valentin Cupe, Jean ...   \n",
       "166  Ji, Zongcheng Wei, Qiang Xu, Hua and ASReview_...   \n",
       "132                                                NaN   \n",
       "256                                                NaN   \n",
       "\n",
       "                                                    ST   m1  c5  c2  c1  OP  \\\n",
       "219  Drug knowledge discovery via multi-task learni...  NaN NaN NaN NaN NaN   \n",
       "265  LiSA: an assisted literature search pipeline f...  NaN NaN NaN NaN NaN   \n",
       "166  BERT-based Ranking for Biomedical Entity Norma...  NaN NaN NaN NaN NaN   \n",
       "132                                                NaN  NaN NaN NaN NaN NaN   \n",
       "256                                                NaN  NaN NaN NaN NaN NaN   \n",
       "\n",
       "       publication_type Unnamed: 40  \n",
       "219  biomedical_journal         NaN  \n",
       "265  biomedical_journal         NaN  \n",
       "166  biomedical_journal         NaN  \n",
       "132           nlp_venue         NaN  \n",
       "256           nlp_venue         NaN  \n",
       "\n",
       "[5 rows x 72 columns]"
      ]
     },
     "execution_count": 138,
     "metadata": {},
     "output_type": "execute_result"
    }
   ],
   "source": [
    "# Sample 3 random rows from df_included\n",
    "df_included_sampled = df_pubmed[df_pubmed['Included'] == 1.0].sample(n=3, random_state=42)\n",
    "\n",
    "# Sample 2 random rows from df_acl_included\n",
    "df_acl_included_sampled = df_acl[df_acl['Included'] == 1.0].sample(n=2, random_state=42)\n",
    "\n",
    "# Combine the sampled DataFrames\n",
    "combined_df = pd.concat([df_included_sampled, df_acl_included_sampled])\n",
    "combined_df_first_cols = combined_df.iloc[:, :6]\n",
    "\n",
    "# Display the combined DataFrame\n",
    "combined_df.head()"
   ]
  },
  {
   "cell_type": "code",
   "execution_count": 139,
   "id": "1572c58b-2ceb-4357-8194-c9ca727413a0",
   "metadata": {},
   "outputs": [],
   "source": [
    "combined_df_first_cols.to_csv(\"sample_to_test_new_extractor.csv\")"
   ]
  },
  {
   "cell_type": "code",
   "execution_count": 140,
   "id": "ca9ee1b0-1398-4c9a-bfae-9914ce91bcd5",
   "metadata": {},
   "outputs": [],
   "source": [
    "combined_df.to_csv(\"full_sample_to_test_new_extractor.csv\")"
   ]
  },
  {
   "cell_type": "markdown",
   "id": "5d8a2d4b-8fe0-4e27-a5dd-77a0bb123325",
   "metadata": {},
   "source": [
    "# Summer School SRs"
   ]
  },
  {
   "cell_type": "code",
   "execution_count": 141,
   "id": "1f0a80e2-f8d9-4857-b082-8b403a481acd",
   "metadata": {},
   "outputs": [],
   "source": [
    "filtered_df_sr = df[df['Domain of automated approach'].str.contains('Systematic', na=False)]\n",
    "filtered_df_sr = filtered_df_sr[['Domain of automated approach', 'Target application']]\n",
    "filtered_df_sr[['Approach Keywords', 'Application description']] = filtered_df_sr['Domain of automated approach'].str.split(':', 1, expand=True)\n",
    "filtered_df_sr['Approach Keywords'] = filtered_df_sr['Approach Keywords'].str.replace('Systematic Reviews/', '')\n",
    "filtered_df_sr['Approach Keywords'] = filtered_df_sr['Approach Keywords'].str.replace(' Systematic Reviews', '')\n",
    "filtered_df_sr['Approach Keywords'] = filtered_df_sr['Approach Keywords'].str.replace('Systematic Reviews', '')"
   ]
  },
  {
   "cell_type": "code",
   "execution_count": 142,
   "id": "f58be994-b1f1-44c0-bb7b-c9c12fd9c434",
   "metadata": {},
   "outputs": [
    {
     "data": {
      "image/png": "[encoded data removed]",
      "text/plain": [
       "<Figure size 720x432 with 1 Axes>"
      ]
     },
     "metadata": {
      "needs_background": "light"
     },
     "output_type": "display_data"
    }
   ],
   "source": [
    "# Counting values in the 'Target application' column\n",
    "value_counts = filtered_df_sr['Target application'].value_counts()\n",
    "\n",
    "# Sorting by highest count\n",
    "value_counts = value_counts.sort_values(ascending=True)\n",
    "\n",
    "# Increasing image size\n",
    "plt.figure(figsize=(10, 6))\n",
    "\n",
    "# Creating a horizontal bar plot with sorted values\n",
    "plt.barh(value_counts.index, value_counts.values)\n",
    "plt.ylabel('Target Application')\n",
    "plt.xlabel('Count')\n",
    "plt.title('Count of Values in Target Application Column')\n",
    "\n",
    "# Displaying count values next to each bar\n",
    "for i, count in enumerate(value_counts.values):\n",
    "    plt.text(count + 0.2, i, str(count), va='center')\n",
    "\n",
    "plt.show()"
   ]
  },
  {
   "cell_type": "code",
   "execution_count": 143,
   "id": "00528e64-a1e1-48c5-a421-ca6c48706084",
   "metadata": {},
   "outputs": [
    {
     "data": {
      "text/html": [
       "<div>\n",
       "<style scoped>\n",
       "    .dataframe tbody tr th:only-of-type {\n",
       "        vertical-align: middle;\n",
       "    }\n",
       "\n",
       "    .dataframe tbody tr th {\n",
       "        vertical-align: top;\n",
       "    }\n",
       "\n",
       "    .dataframe thead th {\n",
       "        text-align: right;\n",
       "    }\n",
       "</style>\n",
       "<table border=\"1\" class=\"dataframe\">\n",
       "  <thead>\n",
       "    <tr style=\"text-align: right;\">\n",
       "      <th></th>\n",
       "      <th>Domain of automated approach</th>\n",
       "      <th>Target application</th>\n",
       "      <th>Approach Keywords</th>\n",
       "      <th>Application description</th>\n",
       "    </tr>\n",
       "  </thead>\n",
       "  <tbody>\n",
       "    <tr>\n",
       "      <th>2</th>\n",
       "      <td>Literature Screening/ Combination of Selection...</td>\n",
       "      <td>Text Classification</td>\n",
       "      <td>Literature Screening/ Combination of Selection...</td>\n",
       "      <td>Screening scientific articles for systematic ...</td>\n",
       "    </tr>\n",
       "    <tr>\n",
       "      <th>4</th>\n",
       "      <td>Literature Screening/ Systematic Reviews/ Moxi...</td>\n",
       "      <td>Text Classification</td>\n",
       "      <td>Literature Screening/  Moxibustion for improvi...</td>\n",
       "      <td>Screening scientific articles for systematic ...</td>\n",
       "    </tr>\n",
       "    <tr>\n",
       "      <th>7</th>\n",
       "      <td>Literature Screening/ PICO Recognition/  Biome...</td>\n",
       "      <td>Named Entity Recognition</td>\n",
       "      <td>Literature Screening/ PICO Recognition/  Biome...</td>\n",
       "      <td>PICO recognition (as NER) to improve referenc...</td>\n",
       "    </tr>\n",
       "    <tr>\n",
       "      <th>12</th>\n",
       "      <td>Literature Screening/ Systematic Reviews/ Neur...</td>\n",
       "      <td>Text Classification</td>\n",
       "      <td>Literature Screening/  Neurosurgery</td>\n",
       "      <td>Classification of Short Scientific Texts to i...</td>\n",
       "    </tr>\n",
       "    <tr>\n",
       "      <th>13</th>\n",
       "      <td>Literature-Based Discovery/ Thematically Coher...</td>\n",
       "      <td>Similarity Clustering</td>\n",
       "      <td>Literature-Based Discovery/ Thematically Coher...</td>\n",
       "      <td>Assist domain specialists in comprehending th...</td>\n",
       "    </tr>\n",
       "  </tbody>\n",
       "</table>\n",
       "</div>"
      ],
      "text/plain": [
       "                         Domain of automated approach  \\\n",
       "2   Literature Screening/ Combination of Selection...   \n",
       "4   Literature Screening/ Systematic Reviews/ Moxi...   \n",
       "7   Literature Screening/ PICO Recognition/  Biome...   \n",
       "12  Literature Screening/ Systematic Reviews/ Neur...   \n",
       "13  Literature-Based Discovery/ Thematically Coher...   \n",
       "\n",
       "          Target application  \\\n",
       "2        Text Classification   \n",
       "4        Text Classification   \n",
       "7   Named Entity Recognition   \n",
       "12       Text Classification   \n",
       "13     Similarity Clustering   \n",
       "\n",
       "                                    Approach Keywords  \\\n",
       "2   Literature Screening/ Combination of Selection...   \n",
       "4   Literature Screening/  Moxibustion for improvi...   \n",
       "7   Literature Screening/ PICO Recognition/  Biome...   \n",
       "12                Literature Screening/  Neurosurgery   \n",
       "13  Literature-Based Discovery/ Thematically Coher...   \n",
       "\n",
       "                              Application description  \n",
       "2    Screening scientific articles for systematic ...  \n",
       "4    Screening scientific articles for systematic ...  \n",
       "7    PICO recognition (as NER) to improve referenc...  \n",
       "12   Classification of Short Scientific Texts to i...  \n",
       "13   Assist domain specialists in comprehending th...  "
      ]
     },
     "execution_count": 143,
     "metadata": {},
     "output_type": "execute_result"
    }
   ],
   "source": [
    "filtered_df_sr.head()"
   ]
  },
  {
   "cell_type": "code",
   "execution_count": 144,
   "id": "daa02d59-1d0d-45d7-82fc-b11d571e7fc6",
   "metadata": {},
   "outputs": [
    {
     "data": {
      "image/png": "[encoded data removed]",
      "text/plain": [
       "<Figure size 720x432 with 1 Axes>"
      ]
     },
     "metadata": {
      "needs_background": "light"
     },
     "output_type": "display_data"
    }
   ],
   "source": [
    "# Counting values in the 'Target application' column\n",
    "value_counts = filtered_df_sr['Approach Keywords'].value_counts()\n",
    "\n",
    "# Sorting by highest count\n",
    "value_counts = value_counts.sort_values(ascending=True)\n",
    "\n",
    "# Increasing image size\n",
    "plt.figure(figsize=(10, 6))\n",
    "\n",
    "# Creating a horizontal bar plot with sorted values\n",
    "plt.barh(value_counts.index, value_counts.values)\n",
    "plt.ylabel('Domain of automated approach')\n",
    "plt.xlabel('Count')\n",
    "plt.title('Count of Values in Domain of automated approach Column')\n",
    "\n",
    "# Displaying count values next to each bar\n",
    "for i, count in enumerate(value_counts.values):\n",
    "    plt.text(count + 0.2, i, str(count), va='center')\n",
    "\n",
    "plt.show()"
   ]
  },
  {
   "cell_type": "code",
   "execution_count": 145,
   "id": "6e776271-17e5-4b5d-8b3a-3b6576b24331",
   "metadata": {},
   "outputs": [],
   "source": [
    "df = filtered_df_sr[['Approach Keywords','Target application']]"
   ]
  },
  {
   "cell_type": "code",
   "execution_count": 146,
   "id": "4ad6c8c2-5afa-40d3-98d2-78dde6f52949",
   "metadata": {},
   "outputs": [
    {
     "data": {
      "text/html": [
       "<div>\n",
       "<style scoped>\n",
       "    .dataframe tbody tr th:only-of-type {\n",
       "        vertical-align: middle;\n",
       "    }\n",
       "\n",
       "    .dataframe tbody tr th {\n",
       "        vertical-align: top;\n",
       "    }\n",
       "\n",
       "    .dataframe thead th {\n",
       "        text-align: right;\n",
       "    }\n",
       "</style>\n",
       "<table border=\"1\" class=\"dataframe\">\n",
       "  <thead>\n",
       "    <tr style=\"text-align: right;\">\n",
       "      <th></th>\n",
       "      <th>Target application</th>\n",
       "      <th>Level_1</th>\n",
       "      <th>Level_2</th>\n",
       "      <th>Level_3</th>\n",
       "      <th>Level_4</th>\n",
       "      <th>Count</th>\n",
       "    </tr>\n",
       "  </thead>\n",
       "  <tbody>\n",
       "    <tr>\n",
       "      <th>2</th>\n",
       "      <td>Text Classification</td>\n",
       "      <td>Literature Screening</td>\n",
       "      <td>Combination of Selection Criteria</td>\n",
       "      <td>Biomedical Literature Curation</td>\n",
       "      <td></td>\n",
       "      <td>1</td>\n",
       "    </tr>\n",
       "    <tr>\n",
       "      <th>4</th>\n",
       "      <td>Text Classification</td>\n",
       "      <td>Literature Screening</td>\n",
       "      <td>Moxibustion for improving cognitive impairment</td>\n",
       "      <td>None</td>\n",
       "      <td>None</td>\n",
       "      <td>1</td>\n",
       "    </tr>\n",
       "    <tr>\n",
       "      <th>7</th>\n",
       "      <td>Named Entity Recognition</td>\n",
       "      <td>Literature Screening</td>\n",
       "      <td>PICO Recognition</td>\n",
       "      <td>Biomedical Literature Curation</td>\n",
       "      <td></td>\n",
       "      <td>1</td>\n",
       "    </tr>\n",
       "    <tr>\n",
       "      <th>12</th>\n",
       "      <td>Text Classification</td>\n",
       "      <td>Literature Screening</td>\n",
       "      <td>Neurosurgery</td>\n",
       "      <td>None</td>\n",
       "      <td>None</td>\n",
       "      <td>1</td>\n",
       "    </tr>\n",
       "    <tr>\n",
       "      <th>13</th>\n",
       "      <td>Similarity Clustering</td>\n",
       "      <td>Literature-Based Discovery</td>\n",
       "      <td>Thematically Coherent Biomedical Documents</td>\n",
       "      <td></td>\n",
       "      <td>None</td>\n",
       "      <td>1</td>\n",
       "    </tr>\n",
       "    <tr>\n",
       "      <th>25</th>\n",
       "      <td>Text Classification</td>\n",
       "      <td>Literature Screening</td>\n",
       "      <td>Teratology</td>\n",
       "      <td>None</td>\n",
       "      <td>None</td>\n",
       "      <td>1</td>\n",
       "    </tr>\n",
       "    <tr>\n",
       "      <th>31</th>\n",
       "      <td>Text Classification</td>\n",
       "      <td>Literature-Based Discovery</td>\n",
       "      <td>Pathogen Characterisation</td>\n",
       "      <td>None</td>\n",
       "      <td>None</td>\n",
       "      <td>1</td>\n",
       "    </tr>\n",
       "    <tr>\n",
       "      <th>39</th>\n",
       "      <td>Text Classification</td>\n",
       "      <td>Literature Screening</td>\n",
       "      <td>Topic Subclasses</td>\n",
       "      <td>COVID-19 Articles</td>\n",
       "      <td>Biomedical Literature Curation</td>\n",
       "      <td>1</td>\n",
       "    </tr>\n",
       "    <tr>\n",
       "      <th>54</th>\n",
       "      <td>Text Classification</td>\n",
       "      <td>Literature Screening</td>\n",
       "      <td>Nursing</td>\n",
       "      <td>None</td>\n",
       "      <td>None</td>\n",
       "      <td>1</td>\n",
       "    </tr>\n",
       "    <tr>\n",
       "      <th>57</th>\n",
       "      <td>Named Entity Recognition</td>\n",
       "      <td>Evidence-Based Medicine</td>\n",
       "      <td>Meta-Analysis</td>\n",
       "      <td>Cancer</td>\n",
       "      <td></td>\n",
       "      <td>1</td>\n",
       "    </tr>\n",
       "    <tr>\n",
       "      <th>61</th>\n",
       "      <td>Information Retrieval</td>\n",
       "      <td>Literature Screening</td>\n",
       "      <td>PIO Recognition</td>\n",
       "      <td>Biomedical Literature Curation</td>\n",
       "      <td>COVID-19 Articles</td>\n",
       "      <td>1</td>\n",
       "    </tr>\n",
       "    <tr>\n",
       "      <th>63</th>\n",
       "      <td>Text Classification</td>\n",
       "      <td>Literature Screening</td>\n",
       "      <td>RCTs on sodium-glucose co-transporter-2 inhib...</td>\n",
       "      <td></td>\n",
       "      <td>None</td>\n",
       "      <td>1</td>\n",
       "    </tr>\n",
       "    <tr>\n",
       "      <th>74</th>\n",
       "      <td>Text Classification</td>\n",
       "      <td>Biomedical Literature Curation</td>\n",
       "      <td>Quality of Evidence Assessment</td>\n",
       "      <td></td>\n",
       "      <td>None</td>\n",
       "      <td>1</td>\n",
       "    </tr>\n",
       "    <tr>\n",
       "      <th>76</th>\n",
       "      <td>Named Entity Recognition</td>\n",
       "      <td>Literature Screening</td>\n",
       "      <td>Clinical interventions</td>\n",
       "      <td>None</td>\n",
       "      <td>None</td>\n",
       "      <td>1</td>\n",
       "    </tr>\n",
       "    <tr>\n",
       "      <th>77</th>\n",
       "      <td>Text Classification</td>\n",
       "      <td>Literature Screening</td>\n",
       "      <td>Study Type</td>\n",
       "      <td>Biomedical Literature Curation</td>\n",
       "      <td></td>\n",
       "      <td>1</td>\n",
       "    </tr>\n",
       "    <tr>\n",
       "      <th>79</th>\n",
       "      <td>Text Classification</td>\n",
       "      <td>Biomedical Literature Curation</td>\n",
       "      <td>Risk Of Bias</td>\n",
       "      <td></td>\n",
       "      <td>None</td>\n",
       "      <td>1</td>\n",
       "    </tr>\n",
       "    <tr>\n",
       "      <th>80</th>\n",
       "      <td>Text Classification</td>\n",
       "      <td>Literature Screening</td>\n",
       "      <td>Adverse-Drug-Events</td>\n",
       "      <td>Pharma</td>\n",
       "      <td>None</td>\n",
       "      <td>1</td>\n",
       "    </tr>\n",
       "    <tr>\n",
       "      <th>122</th>\n",
       "      <td>Text Summarization</td>\n",
       "      <td>Literature-Based Discovery</td>\n",
       "      <td>Multi-document summarisation of Medical studies</td>\n",
       "      <td></td>\n",
       "      <td>None</td>\n",
       "      <td>1</td>\n",
       "    </tr>\n",
       "  </tbody>\n",
       "</table>\n",
       "</div>"
      ],
      "text/plain": [
       "           Target application                         Level_1  \\\n",
       "2         Text Classification            Literature Screening   \n",
       "4         Text Classification            Literature Screening   \n",
       "7    Named Entity Recognition            Literature Screening   \n",
       "12        Text Classification            Literature Screening   \n",
       "13      Similarity Clustering      Literature-Based Discovery   \n",
       "25        Text Classification            Literature Screening   \n",
       "31        Text Classification      Literature-Based Discovery   \n",
       "39        Text Classification            Literature Screening   \n",
       "54        Text Classification            Literature Screening   \n",
       "57   Named Entity Recognition         Evidence-Based Medicine   \n",
       "61      Information Retrieval            Literature Screening   \n",
       "63        Text Classification            Literature Screening   \n",
       "74        Text Classification  Biomedical Literature Curation   \n",
       "76   Named Entity Recognition            Literature Screening   \n",
       "77        Text Classification            Literature Screening   \n",
       "79        Text Classification  Biomedical Literature Curation   \n",
       "80        Text Classification            Literature Screening   \n",
       "122        Text Summarization      Literature-Based Discovery   \n",
       "\n",
       "                                               Level_2  \\\n",
       "2                    Combination of Selection Criteria   \n",
       "4       Moxibustion for improving cognitive impairment   \n",
       "7                                     PICO Recognition   \n",
       "12                                        Neurosurgery   \n",
       "13          Thematically Coherent Biomedical Documents   \n",
       "25                                          Teratology   \n",
       "31                           Pathogen Characterisation   \n",
       "39                                    Topic Subclasses   \n",
       "54                                             Nursing   \n",
       "57                                       Meta-Analysis   \n",
       "61                                     PIO Recognition   \n",
       "63    RCTs on sodium-glucose co-transporter-2 inhib...   \n",
       "74                      Quality of Evidence Assessment   \n",
       "76                              Clinical interventions   \n",
       "77                                          Study Type   \n",
       "79                                        Risk Of Bias   \n",
       "80                                 Adverse-Drug-Events   \n",
       "122    Multi-document summarisation of Medical studies   \n",
       "\n",
       "                              Level_3                          Level_4  Count  \n",
       "2      Biomedical Literature Curation                                       1  \n",
       "4                                None                             None      1  \n",
       "7      Biomedical Literature Curation                                       1  \n",
       "12                               None                             None      1  \n",
       "13                                                                None      1  \n",
       "25                               None                             None      1  \n",
       "31                               None                             None      1  \n",
       "39                  COVID-19 Articles   Biomedical Literature Curation      1  \n",
       "54                               None                             None      1  \n",
       "57                             Cancer                                       1  \n",
       "61     Biomedical Literature Curation                COVID-19 Articles      1  \n",
       "63                                                                None      1  \n",
       "74                                                                None      1  \n",
       "76                               None                             None      1  \n",
       "77     Biomedical Literature Curation                                       1  \n",
       "79                                                                None      1  \n",
       "80                             Pharma                             None      1  \n",
       "122                                                               None      1  "
      ]
     },
     "execution_count": 146,
     "metadata": {},
     "output_type": "execute_result"
    }
   ],
   "source": [
    "# Splitting the column and unpacking into different columns\n",
    "split_columns = df['Approach Keywords'].str.split('/', expand=True)\n",
    "\n",
    "# Renaming the split columns\n",
    "split_columns.columns = [f'Level_{i+1}' for i in range(split_columns.shape[1])]\n",
    "\n",
    "# Combining the original DataFrame with the split columns\n",
    "df = pd.concat([df, split_columns], axis=1)\n",
    "\n",
    "# Dropping the original column\n",
    "df.drop(columns=['Approach Keywords'], inplace=True)\n",
    "df.drop(columns=['Level_5'], inplace=True)\n",
    "\n",
    "df['Count'] = 1\n",
    "df"
   ]
  },
  {
   "cell_type": "code",
   "execution_count": 147,
   "id": "faffe66c-ad77-4c8d-a7ac-a73af1269c50",
   "metadata": {},
   "outputs": [],
   "source": [
    "l1 = df[\"Level_1\"].to_list()\n",
    "l2 = df[\"Level_2\"].to_list()\n",
    "connect_values = df[\"Count\"].to_list()\n",
    "levels_combined = list(set(l1+l2))\n",
    "#levels_combined\n",
    "node_dict = {y:x for x, y in enumerate(levels_combined)}\n",
    "node_dict\n",
    "\n",
    "source = l1 \n",
    "target = l2  \n",
    "values = connect_values \n",
    "\n",
    "source_node = [node_dict[x] for x in source]\n",
    "target_node = [node_dict[x] for x in target]"
   ]
  },
  {
   "cell_type": "code",
   "execution_count": 148,
   "id": "f5e1b720-2a9b-42e2-ad81-824e6fdf94a4",
   "metadata": {},
   "outputs": [
    {
     "data": {
      "application/vnd.plotly.v1+json": {
       "config": {
        "plotlyServerURL": "https://plot.ly"
       },
       "data": [
        {
         "link": {
          "source": [
           10,
           10,
           10,
           10,
           13,
           10,
           13,
           10,
           10,
           11,
           10,
           10,
           17,
           10,
           10,
           17,
           10,
           13
          ],
          "target": [
           16,
           19,
           18,
           5,
           14,
           20,
           0,
           8,
           3,
           6,
           2,
           9,
           21,
           7,
           1,
           12,
           4,
           15
          ],
          "value": [
           1,
           1,
           1,
           1,
           1,
           1,
           1,
           1,
           1,
           1,
           1,
           1,
           1,
           1,
           1,
           1,
           1,
           1
          ]
         },
         "node": {
          "label": [
           "  Pathogen Characterisation",
           " Study Type",
           " PIO Recognition",
           "  Nursing",
           "  Adverse-Drug-Events",
           "  Neurosurgery",
           " Meta-Analysis",
           "  Clinical interventions",
           " Topic Subclasses",
           " RCTs on sodium-glucose co-transporter-2 inhibitors for type 2 diabetes mellitus treatment",
           "Literature Screening",
           "Evidence-Based Medicine",
           " Risk Of Bias",
           "Literature-Based Discovery",
           " Thematically Coherent Biomedical Documents",
           " Multi-document summarisation of Medical studies",
           " Combination of Selection Criteria",
           "Biomedical Literature Curation",
           " PICO Recognition",
           "  Moxibustion for improving cognitive impairment",
           "  Teratology",
           " Quality of Evidence Assessment"
          ]
         },
         "type": "sankey"
        }
       ],
       "layout": {
        "autosize": true,
        "template": {
         "data": {
          "bar": [
           {
            "error_x": {
             "color": "#2a3f5f"
            },
            "error_y": {
             "color": "#2a3f5f"
            },
            "marker": {
             "line": {
              "color": "#E5ECF6",
              "width": 0.5
             },
             "pattern": {
              "fillmode": "overlay",
              "size": 10,
              "solidity": 0.2
             }
            },
            "type": "bar"
           }
          ],
          "barpolar": [
           {
            "marker": {
             "line": {
              "color": "#E5ECF6",
              "width": 0.5
             },
             "pattern": {
              "fillmode": "overlay",
              "size": 10,
              "solidity": 0.2
             }
            },
            "type": "barpolar"
           }
          ],
          "carpet": [
           {
            "aaxis": {
             "endlinecolor": "#2a3f5f",
             "gridcolor": "white",
             "linecolor": "white",
             "minorgridcolor": "white",
             "startlinecolor": "#2a3f5f"
            },
            "baxis": {
             "endlinecolor": "#2a3f5f",
             "gridcolor": "white",
             "linecolor": "white",
             "minorgridcolor": "white",
             "startlinecolor": "#2a3f5f"
            },
            "type": "carpet"
           }
          ],
          "choropleth": [
           {
            "colorbar": {
             "outlinewidth": 0,
             "ticks": ""
            },
            "type": "choropleth"
           }
          ],
          "contour": [
           {
            "colorbar": {
             "outlinewidth": 0,
             "ticks": ""
            },
            "colorscale": [
             [
              0,
              "#0d0887"
             ],
             [
              0.1111111111111111,
              "#46039f"
             ],
             [
              0.2222222222222222,
              "#7201a8"
             ],
             [
              0.3333333333333333,
              "#9c179e"
             ],
             [
              0.4444444444444444,
              "#bd3786"
             ],
             [
              0.5555555555555556,
              "#d8576b"
             ],
             [
              0.6666666666666666,
              "#ed7953"
             ],
             [
              0.7777777777777778,
              "#fb9f3a"
             ],
             [
              0.8888888888888888,
              "#fdca26"
             ],
             [
              1,
              "#f0f921"
             ]
            ],
            "type": "contour"
           }
          ],
          "contourcarpet": [
           {
            "colorbar": {
             "outlinewidth": 0,
             "ticks": ""
            },
            "type": "contourcarpet"
           }
          ],
          "heatmap": [
           {
            "colorbar": {
             "outlinewidth": 0,
             "ticks": ""
            },
            "colorscale": [
             [
              0,
              "#0d0887"
             ],
             [
              0.1111111111111111,
              "#46039f"
             ],
             [
              0.2222222222222222,
              "#7201a8"
             ],
             [
              0.3333333333333333,
              "#9c179e"
             ],
             [
              0.4444444444444444,
              "#bd3786"
             ],
             [
              0.5555555555555556,
              "#d8576b"
             ],
             [
              0.6666666666666666,
              "#ed7953"
             ],
             [
              0.7777777777777778,
              "#fb9f3a"
             ],
             [
              0.8888888888888888,
              "#fdca26"
             ],
             [
              1,
              "#f0f921"
             ]
            ],
            "type": "heatmap"
           }
          ],
          "heatmapgl": [
           {
            "colorbar": {
             "outlinewidth": 0,
             "ticks": ""
            },
            "colorscale": [
             [
              0,
              "#0d0887"
             ],
             [
              0.1111111111111111,
              "#46039f"
             ],
             [
              0.2222222222222222,
              "#7201a8"
             ],
             [
              0.3333333333333333,
              "#9c179e"
             ],
             [
              0.4444444444444444,
              "#bd3786"
             ],
             [
              0.5555555555555556,
              "#d8576b"
             ],
             [
              0.6666666666666666,
              "#ed7953"
             ],
             [
              0.7777777777777778,
              "#fb9f3a"
             ],
             [
              0.8888888888888888,
              "#fdca26"
             ],
             [
              1,
              "#f0f921"
             ]
            ],
            "type": "heatmapgl"
           }
          ],
          "histogram": [
           {
            "marker": {
             "pattern": {
              "fillmode": "overlay",
              "size": 10,
              "solidity": 0.2
             }
            },
            "type": "histogram"
           }
          ],
          "histogram2d": [
           {
            "colorbar": {
             "outlinewidth": 0,
             "ticks": ""
            },
            "colorscale": [
             [
              0,
              "#0d0887"
             ],
             [
              0.1111111111111111,
              "#46039f"
             ],
             [
              0.2222222222222222,
              "#7201a8"
             ],
             [
              0.3333333333333333,
              "#9c179e"
             ],
             [
              0.4444444444444444,
              "#bd3786"
             ],
             [
              0.5555555555555556,
              "#d8576b"
             ],
             [
              0.6666666666666666,
              "#ed7953"
             ],
             [
              0.7777777777777778,
              "#fb9f3a"
             ],
             [
              0.8888888888888888,
              "#fdca26"
             ],
             [
              1,
              "#f0f921"
             ]
            ],
            "type": "histogram2d"
           }
          ],
          "histogram2dcontour": [
           {
            "colorbar": {
             "outlinewidth": 0,
             "ticks": ""
            },
            "colorscale": [
             [
              0,
              "#0d0887"
             ],
             [
              0.1111111111111111,
              "#46039f"
             ],
             [
              0.2222222222222222,
              "#7201a8"
             ],
             [
              0.3333333333333333,
              "#9c179e"
             ],
             [
              0.4444444444444444,
              "#bd3786"
             ],
             [
              0.5555555555555556,
              "#d8576b"
             ],
             [
              0.6666666666666666,
              "#ed7953"
             ],
             [
              0.7777777777777778,
              "#fb9f3a"
             ],
             [
              0.8888888888888888,
              "#fdca26"
             ],
             [
              1,
              "#f0f921"
             ]
            ],
            "type": "histogram2dcontour"
           }
          ],
          "mesh3d": [
           {
            "colorbar": {
             "outlinewidth": 0,
             "ticks": ""
            },
            "type": "mesh3d"
           }
          ],
          "parcoords": [
           {
            "line": {
             "colorbar": {
              "outlinewidth": 0,
              "ticks": ""
             }
            },
            "type": "parcoords"
           }
          ],
          "pie": [
           {
            "automargin": true,
            "type": "pie"
           }
          ],
          "scatter": [
           {
            "fillpattern": {
             "fillmode": "overlay",
             "size": 10,
             "solidity": 0.2
            },
            "type": "scatter"
           }
          ],
          "scatter3d": [
           {
            "line": {
             "colorbar": {
              "outlinewidth": 0,
              "ticks": ""
             }
            },
            "marker": {
             "colorbar": {
              "outlinewidth": 0,
              "ticks": ""
             }
            },
            "type": "scatter3d"
           }
          ],
          "scattercarpet": [
           {
            "marker": {
             "colorbar": {
              "outlinewidth": 0,
              "ticks": ""
             }
            },
            "type": "scattercarpet"
           }
          ],
          "scattergeo": [
           {
            "marker": {
             "colorbar": {
              "outlinewidth": 0,
              "ticks": ""
             }
            },
            "type": "scattergeo"
           }
          ],
          "scattergl": [
           {
            "marker": {
             "colorbar": {
              "outlinewidth": 0,
              "ticks": ""
             }
            },
            "type": "scattergl"
           }
          ],
          "scattermapbox": [
           {
            "marker": {
             "colorbar": {
              "outlinewidth": 0,
              "ticks": ""
             }
            },
            "type": "scattermapbox"
           }
          ],
          "scatterpolar": [
           {
            "marker": {
             "colorbar": {
              "outlinewidth": 0,
              "ticks": ""
             }
            },
            "type": "scatterpolar"
           }
          ],
          "scatterpolargl": [
           {
            "marker": {
             "colorbar": {
              "outlinewidth": 0,
              "ticks": ""
             }
            },
            "type": "scatterpolargl"
           }
          ],
          "scatterternary": [
           {
            "marker": {
             "colorbar": {
              "outlinewidth": 0,
              "ticks": ""
             }
            },
            "type": "scatterternary"
           }
          ],
          "surface": [
           {
            "colorbar": {
             "outlinewidth": 0,
             "ticks": ""
            },
            "colorscale": [
             [
              0,
              "#0d0887"
             ],
             [
              0.1111111111111111,
              "#46039f"
             ],
             [
              0.2222222222222222,
              "#7201a8"
             ],
             [
              0.3333333333333333,
              "#9c179e"
             ],
             [
              0.4444444444444444,
              "#bd3786"
             ],
             [
              0.5555555555555556,
              "#d8576b"
             ],
             [
              0.6666666666666666,
              "#ed7953"
             ],
             [
              0.7777777777777778,
              "#fb9f3a"
             ],
             [
              0.8888888888888888,
              "#fdca26"
             ],
             [
              1,
              "#f0f921"
             ]
            ],
            "type": "surface"
           }
          ],
          "table": [
           {
            "cells": {
             "fill": {
              "color": "#EBF0F8"
             },
             "line": {
              "color": "white"
             }
            },
            "header": {
             "fill": {
              "color": "#C8D4E3"
             },
             "line": {
              "color": "white"
             }
            },
            "type": "table"
           }
          ]
         },
         "layout": {
          "annotationdefaults": {
           "arrowcolor": "#2a3f5f",
           "arrowhead": 0,
           "arrowwidth": 1
          },
          "autotypenumbers": "strict",
          "coloraxis": {
           "colorbar": {
            "outlinewidth": 0,
            "ticks": ""
           }
          },
          "colorscale": {
           "diverging": [
            [
             0,
             "#8e0152"
            ],
            [
             0.1,
             "#c51b7d"
            ],
            [
             0.2,
             "#de77ae"
            ],
            [
             0.3,
             "#f1b6da"
            ],
            [
             0.4,
             "#fde0ef"
            ],
            [
             0.5,
             "#f7f7f7"
            ],
            [
             0.6,
             "#e6f5d0"
            ],
            [
             0.7,
             "#b8e186"
            ],
            [
             0.8,
             "#7fbc41"
            ],
            [
             0.9,
             "#4d9221"
            ],
            [
             1,
             "#276419"
            ]
           ],
           "sequential": [
            [
             0,
             "#0d0887"
            ],
            [
             0.1111111111111111,
             "#46039f"
            ],
            [
             0.2222222222222222,
             "#7201a8"
            ],
            [
             0.3333333333333333,
             "#9c179e"
            ],
            [
             0.4444444444444444,
             "#bd3786"
            ],
            [
             0.5555555555555556,
             "#d8576b"
            ],
            [
             0.6666666666666666,
             "#ed7953"
            ],
            [
             0.7777777777777778,
             "#fb9f3a"
            ],
            [
             0.8888888888888888,
             "#fdca26"
            ],
            [
             1,
             "#f0f921"
            ]
           ],
           "sequentialminus": [
            [
             0,
             "#0d0887"
            ],
            [
             0.1111111111111111,
             "#46039f"
            ],
            [
             0.2222222222222222,
             "#7201a8"
            ],
            [
             0.3333333333333333,
             "#9c179e"
            ],
            [
             0.4444444444444444,
             "#bd3786"
            ],
            [
             0.5555555555555556,
             "#d8576b"
            ],
            [
             0.6666666666666666,
             "#ed7953"
            ],
            [
             0.7777777777777778,
             "#fb9f3a"
            ],
            [
             0.8888888888888888,
             "#fdca26"
            ],
            [
             1,
             "#f0f921"
            ]
           ]
          },
          "colorway": [
           "#636efa",
           "#EF553B",
           "#00cc96",
           "#ab63fa",
           "#FFA15A",
           "#19d3f3",
           "#FF6692",
           "#B6E880",
           "#FF97FF",
           "#FECB52"
          ],
          "font": {
           "color": "#2a3f5f"
          },
          "geo": {
           "bgcolor": "white",
           "lakecolor": "white",
           "landcolor": "#E5ECF6",
           "showlakes": true,
           "showland": true,
           "subunitcolor": "white"
          },
          "hoverlabel": {
           "align": "left"
          },
          "hovermode": "closest",
          "mapbox": {
           "style": "light"
          },
          "paper_bgcolor": "white",
          "plot_bgcolor": "#E5ECF6",
          "polar": {
           "angularaxis": {
            "gridcolor": "white",
            "linecolor": "white",
            "ticks": ""
           },
           "bgcolor": "#E5ECF6",
           "radialaxis": {
            "gridcolor": "white",
            "linecolor": "white",
            "ticks": ""
           }
          },
          "scene": {
           "xaxis": {
            "backgroundcolor": "#E5ECF6",
            "gridcolor": "white",
            "gridwidth": 2,
            "linecolor": "white",
            "showbackground": true,
            "ticks": "",
            "zerolinecolor": "white"
           },
           "yaxis": {
            "backgroundcolor": "#E5ECF6",
            "gridcolor": "white",
            "gridwidth": 2,
            "linecolor": "white",
            "showbackground": true,
            "ticks": "",
            "zerolinecolor": "white"
           },
           "zaxis": {
            "backgroundcolor": "#E5ECF6",
            "gridcolor": "white",
            "gridwidth": 2,
            "linecolor": "white",
            "showbackground": true,
            "ticks": "",
            "zerolinecolor": "white"
           }
          },
          "shapedefaults": {
           "line": {
            "color": "#2a3f5f"
           }
          },
          "ternary": {
           "aaxis": {
            "gridcolor": "white",
            "linecolor": "white",
            "ticks": ""
           },
           "baxis": {
            "gridcolor": "white",
            "linecolor": "white",
            "ticks": ""
           },
           "bgcolor": "#E5ECF6",
           "caxis": {
            "gridcolor": "white",
            "linecolor": "white",
            "ticks": ""
           }
          },
          "title": {
           "x": 0.05
          },
          "xaxis": {
           "automargin": true,
           "gridcolor": "white",
           "linecolor": "white",
           "ticks": "",
           "title": {
            "standoff": 15
           },
           "zerolinecolor": "white",
           "zerolinewidth": 2
          },
          "yaxis": {
           "automargin": true,
           "gridcolor": "white",
           "linecolor": "white",
           "ticks": "",
           "title": {
            "standoff": 15
           },
           "zerolinecolor": "white",
           "zerolinewidth": 2
          }
         }
        }
       }
      },
      "image/png": "[encoded data removed]",
      "text/html": [
       "<div>                            <div id=\"190c0714-4e53-4ff9-9cac-a6472c9474ed\" class=\"plotly-graph-div\" style=\"height:525px; width:100%;\"></div>            <script type=\"text/javascript\">                require([\"plotly\"], function(Plotly) {                    window.PLOTLYENV=window.PLOTLYENV || {};                                    if (document.getElementById(\"190c0714-4e53-4ff9-9cac-a6472c9474ed\")) {                    Plotly.newPlot(                        \"190c0714-4e53-4ff9-9cac-a6472c9474ed\",                        [{\"link\":{\"source\":[10,10,10,10,13,10,13,10,10,11,10,10,17,10,10,17,10,13],\"target\":[16,19,18,5,14,20,0,8,3,6,2,9,21,7,1,12,4,15],\"value\":[1,1,1,1,1,1,1,1,1,1,1,1,1,1,1,1,1,1]},\"node\":{\"label\":[\"  Pathogen Characterisation\",\" Study Type\",\" PIO Recognition\",\"  Nursing\",\"  Adverse-Drug-Events\",\"  Neurosurgery\",\" Meta-Analysis\",\"  Clinical interventions\",\" Topic Subclasses\",\" RCTs on sodium-glucose co-transporter-2 inhibitors for type 2 diabetes mellitus treatment\",\"Literature Screening\",\"Evidence-Based Medicine\",\" Risk Of Bias\",\"Literature-Based Discovery\",\" Thematically Coherent Biomedical Documents\",\" Multi-document summarisation of Medical studies\",\" Combination of Selection Criteria\",\"Biomedical Literature Curation\",\" PICO Recognition\",\"  Moxibustion for improving cognitive impairment\",\"  Teratology\",\" Quality of Evidence Assessment\"]},\"type\":\"sankey\"}],                        {\"template\":{\"data\":{\"histogram2dcontour\":[{\"type\":\"histogram2dcontour\",\"colorbar\":{\"outlinewidth\":0,\"ticks\":\"\"},\"colorscale\":[[0.0,\"#0d0887\"],[0.1111111111111111,\"#46039f\"],[0.2222222222222222,\"#7201a8\"],[0.3333333333333333,\"#9c179e\"],[0.4444444444444444,\"#bd3786\"],[0.5555555555555556,\"#d8576b\"],[0.6666666666666666,\"#ed7953\"],[0.7777777777777778,\"#fb9f3a\"],[0.8888888888888888,\"#fdca26\"],[1.0,\"#f0f921\"]]}],\"choropleth\":[{\"type\":\"choropleth\",\"colorbar\":{\"outlinewidth\":0,\"ticks\":\"\"}}],\"histogram2d\":[{\"type\":\"histogram2d\",\"colorbar\":{\"outlinewidth\":0,\"ticks\":\"\"},\"colorscale\":[[0.0,\"#0d0887\"],[0.1111111111111111,\"#46039f\"],[0.2222222222222222,\"#7201a8\"],[0.3333333333333333,\"#9c179e\"],[0.4444444444444444,\"#bd3786\"],[0.5555555555555556,\"#d8576b\"],[0.6666666666666666,\"#ed7953\"],[0.7777777777777778,\"#fb9f3a\"],[0.8888888888888888,\"#fdca26\"],[1.0,\"#f0f921\"]]}],\"heatmap\":[{\"type\":\"heatmap\",\"colorbar\":{\"outlinewidth\":0,\"ticks\":\"\"},\"colorscale\":[[0.0,\"#0d0887\"],[0.1111111111111111,\"#46039f\"],[0.2222222222222222,\"#7201a8\"],[0.3333333333333333,\"#9c179e\"],[0.4444444444444444,\"#bd3786\"],[0.5555555555555556,\"#d8576b\"],[0.6666666666666666,\"#ed7953\"],[0.7777777777777778,\"#fb9f3a\"],[0.8888888888888888,\"#fdca26\"],[1.0,\"#f0f921\"]]}],\"heatmapgl\":[{\"type\":\"heatmapgl\",\"colorbar\":{\"outlinewidth\":0,\"ticks\":\"\"},\"colorscale\":[[0.0,\"#0d0887\"],[0.1111111111111111,\"#46039f\"],[0.2222222222222222,\"#7201a8\"],[0.3333333333333333,\"#9c179e\"],[0.4444444444444444,\"#bd3786\"],[0.5555555555555556,\"#d8576b\"],[0.6666666666666666,\"#ed7953\"],[0.7777777777777778,\"#fb9f3a\"],[0.8888888888888888,\"#fdca26\"],[1.0,\"#f0f921\"]]}],\"contourcarpet\":[{\"type\":\"contourcarpet\",\"colorbar\":{\"outlinewidth\":0,\"ticks\":\"\"}}],\"contour\":[{\"type\":\"contour\",\"colorbar\":{\"outlinewidth\":0,\"ticks\":\"\"},\"colorscale\":[[0.0,\"#0d0887\"],[0.1111111111111111,\"#46039f\"],[0.2222222222222222,\"#7201a8\"],[0.3333333333333333,\"#9c179e\"],[0.4444444444444444,\"#bd3786\"],[0.5555555555555556,\"#d8576b\"],[0.6666666666666666,\"#ed7953\"],[0.7777777777777778,\"#fb9f3a\"],[0.8888888888888888,\"#fdca26\"],[1.0,\"#f0f921\"]]}],\"surface\":[{\"type\":\"surface\",\"colorbar\":{\"outlinewidth\":0,\"ticks\":\"\"},\"colorscale\":[[0.0,\"#0d0887\"],[0.1111111111111111,\"#46039f\"],[0.2222222222222222,\"#7201a8\"],[0.3333333333333333,\"#9c179e\"],[0.4444444444444444,\"#bd3786\"],[0.5555555555555556,\"#d8576b\"],[0.6666666666666666,\"#ed7953\"],[0.7777777777777778,\"#fb9f3a\"],[0.8888888888888888,\"#fdca26\"],[1.0,\"#f0f921\"]]}],\"mesh3d\":[{\"type\":\"mesh3d\",\"colorbar\":{\"outlinewidth\":0,\"ticks\":\"\"}}],\"scatter\":[{\"fillpattern\":{\"fillmode\":\"overlay\",\"size\":10,\"solidity\":0.2},\"type\":\"scatter\"}],\"parcoords\":[{\"type\":\"parcoords\",\"line\":{\"colorbar\":{\"outlinewidth\":0,\"ticks\":\"\"}}}],\"scatterpolargl\":[{\"type\":\"scatterpolargl\",\"marker\":{\"colorbar\":{\"outlinewidth\":0,\"ticks\":\"\"}}}],\"bar\":[{\"error_x\":{\"color\":\"#2a3f5f\"},\"error_y\":{\"color\":\"#2a3f5f\"},\"marker\":{\"line\":{\"color\":\"#E5ECF6\",\"width\":0.5},\"pattern\":{\"fillmode\":\"overlay\",\"size\":10,\"solidity\":0.2}},\"type\":\"bar\"}],\"scattergeo\":[{\"type\":\"scattergeo\",\"marker\":{\"colorbar\":{\"outlinewidth\":0,\"ticks\":\"\"}}}],\"scatterpolar\":[{\"type\":\"scatterpolar\",\"marker\":{\"colorbar\":{\"outlinewidth\":0,\"ticks\":\"\"}}}],\"histogram\":[{\"marker\":{\"pattern\":{\"fillmode\":\"overlay\",\"size\":10,\"solidity\":0.2}},\"type\":\"histogram\"}],\"scattergl\":[{\"type\":\"scattergl\",\"marker\":{\"colorbar\":{\"outlinewidth\":0,\"ticks\":\"\"}}}],\"scatter3d\":[{\"type\":\"scatter3d\",\"line\":{\"colorbar\":{\"outlinewidth\":0,\"ticks\":\"\"}},\"marker\":{\"colorbar\":{\"outlinewidth\":0,\"ticks\":\"\"}}}],\"scattermapbox\":[{\"type\":\"scattermapbox\",\"marker\":{\"colorbar\":{\"outlinewidth\":0,\"ticks\":\"\"}}}],\"scatterternary\":[{\"type\":\"scatterternary\",\"marker\":{\"colorbar\":{\"outlinewidth\":0,\"ticks\":\"\"}}}],\"scattercarpet\":[{\"type\":\"scattercarpet\",\"marker\":{\"colorbar\":{\"outlinewidth\":0,\"ticks\":\"\"}}}],\"carpet\":[{\"aaxis\":{\"endlinecolor\":\"#2a3f5f\",\"gridcolor\":\"white\",\"linecolor\":\"white\",\"minorgridcolor\":\"white\",\"startlinecolor\":\"#2a3f5f\"},\"baxis\":{\"endlinecolor\":\"#2a3f5f\",\"gridcolor\":\"white\",\"linecolor\":\"white\",\"minorgridcolor\":\"white\",\"startlinecolor\":\"#2a3f5f\"},\"type\":\"carpet\"}],\"table\":[{\"cells\":{\"fill\":{\"color\":\"#EBF0F8\"},\"line\":{\"color\":\"white\"}},\"header\":{\"fill\":{\"color\":\"#C8D4E3\"},\"line\":{\"color\":\"white\"}},\"type\":\"table\"}],\"barpolar\":[{\"marker\":{\"line\":{\"color\":\"#E5ECF6\",\"width\":0.5},\"pattern\":{\"fillmode\":\"overlay\",\"size\":10,\"solidity\":0.2}},\"type\":\"barpolar\"}],\"pie\":[{\"automargin\":true,\"type\":\"pie\"}]},\"layout\":{\"autotypenumbers\":\"strict\",\"colorway\":[\"#636efa\",\"#EF553B\",\"#00cc96\",\"#ab63fa\",\"#FFA15A\",\"#19d3f3\",\"#FF6692\",\"#B6E880\",\"#FF97FF\",\"#FECB52\"],\"font\":{\"color\":\"#2a3f5f\"},\"hovermode\":\"closest\",\"hoverlabel\":{\"align\":\"left\"},\"paper_bgcolor\":\"white\",\"plot_bgcolor\":\"#E5ECF6\",\"polar\":{\"bgcolor\":\"#E5ECF6\",\"angularaxis\":{\"gridcolor\":\"white\",\"linecolor\":\"white\",\"ticks\":\"\"},\"radialaxis\":{\"gridcolor\":\"white\",\"linecolor\":\"white\",\"ticks\":\"\"}},\"ternary\":{\"bgcolor\":\"#E5ECF6\",\"aaxis\":{\"gridcolor\":\"white\",\"linecolor\":\"white\",\"ticks\":\"\"},\"baxis\":{\"gridcolor\":\"white\",\"linecolor\":\"white\",\"ticks\":\"\"},\"caxis\":{\"gridcolor\":\"white\",\"linecolor\":\"white\",\"ticks\":\"\"}},\"coloraxis\":{\"colorbar\":{\"outlinewidth\":0,\"ticks\":\"\"}},\"colorscale\":{\"sequential\":[[0.0,\"#0d0887\"],[0.1111111111111111,\"#46039f\"],[0.2222222222222222,\"#7201a8\"],[0.3333333333333333,\"#9c179e\"],[0.4444444444444444,\"#bd3786\"],[0.5555555555555556,\"#d8576b\"],[0.6666666666666666,\"#ed7953\"],[0.7777777777777778,\"#fb9f3a\"],[0.8888888888888888,\"#fdca26\"],[1.0,\"#f0f921\"]],\"sequentialminus\":[[0.0,\"#0d0887\"],[0.1111111111111111,\"#46039f\"],[0.2222222222222222,\"#7201a8\"],[0.3333333333333333,\"#9c179e\"],[0.4444444444444444,\"#bd3786\"],[0.5555555555555556,\"#d8576b\"],[0.6666666666666666,\"#ed7953\"],[0.7777777777777778,\"#fb9f3a\"],[0.8888888888888888,\"#fdca26\"],[1.0,\"#f0f921\"]],\"diverging\":[[0,\"#8e0152\"],[0.1,\"#c51b7d\"],[0.2,\"#de77ae\"],[0.3,\"#f1b6da\"],[0.4,\"#fde0ef\"],[0.5,\"#f7f7f7\"],[0.6,\"#e6f5d0\"],[0.7,\"#b8e186\"],[0.8,\"#7fbc41\"],[0.9,\"#4d9221\"],[1,\"#276419\"]]},\"xaxis\":{\"gridcolor\":\"white\",\"linecolor\":\"white\",\"ticks\":\"\",\"title\":{\"standoff\":15},\"zerolinecolor\":\"white\",\"automargin\":true,\"zerolinewidth\":2},\"yaxis\":{\"gridcolor\":\"white\",\"linecolor\":\"white\",\"ticks\":\"\",\"title\":{\"standoff\":15},\"zerolinecolor\":\"white\",\"automargin\":true,\"zerolinewidth\":2},\"scene\":{\"xaxis\":{\"backgroundcolor\":\"#E5ECF6\",\"gridcolor\":\"white\",\"linecolor\":\"white\",\"showbackground\":true,\"ticks\":\"\",\"zerolinecolor\":\"white\",\"gridwidth\":2},\"yaxis\":{\"backgroundcolor\":\"#E5ECF6\",\"gridcolor\":\"white\",\"linecolor\":\"white\",\"showbackground\":true,\"ticks\":\"\",\"zerolinecolor\":\"white\",\"gridwidth\":2},\"zaxis\":{\"backgroundcolor\":\"#E5ECF6\",\"gridcolor\":\"white\",\"linecolor\":\"white\",\"showbackground\":true,\"ticks\":\"\",\"zerolinecolor\":\"white\",\"gridwidth\":2}},\"shapedefaults\":{\"line\":{\"color\":\"#2a3f5f\"}},\"annotationdefaults\":{\"arrowcolor\":\"#2a3f5f\",\"arrowhead\":0,\"arrowwidth\":1},\"geo\":{\"bgcolor\":\"white\",\"landcolor\":\"#E5ECF6\",\"subunitcolor\":\"white\",\"showland\":true,\"showlakes\":true,\"lakecolor\":\"white\"},\"title\":{\"x\":0.05},\"mapbox\":{\"style\":\"light\"}}}},                        {\"responsive\": true}                    ).then(function(){\n",
       "                            \n",
       "var gd = document.getElementById('190c0714-4e53-4ff9-9cac-a6472c9474ed');\n",
       "var x = new MutationObserver(function (mutations, observer) {{\n",
       "        var display = window.getComputedStyle(gd).display;\n",
       "        if (!display || display === 'none') {{\n",
       "            console.log([gd, 'removed!']);\n",
       "            Plotly.purge(gd);\n",
       "            observer.disconnect();\n",
       "        }}\n",
       "}});\n",
       "\n",
       "// Listen for the removal of the full notebook cells\n",
       "var notebookContainer = gd.closest('#notebook-container');\n",
       "if (notebookContainer) {{\n",
       "    x.observe(notebookContainer, {childList: true});\n",
       "}}\n",
       "\n",
       "// Listen for the clearing of the current output cell\n",
       "var outputEl = gd.closest('.output');\n",
       "if (outputEl) {{\n",
       "    x.observe(outputEl, {childList: true});\n",
       "}}\n",
       "\n",
       "                        })                };                });            </script>        </div>"
      ]
     },
     "metadata": {},
     "output_type": "display_data"
    }
   ],
   "source": [
    "import plotly.graph_objects as go # Import the graphical object\n",
    "\n",
    "fig = go.Figure( \n",
    "    data=[go.Sankey( # The plot we are interest\n",
    "        # This part is for the node information\n",
    "        node = dict( \n",
    "            label = levels_combined\n",
    "        ),\n",
    "        # This part is for the link information\n",
    "        link = dict(\n",
    "            source = source_node,\n",
    "            target = target_node,\n",
    "            value = values\n",
    "        ))])\n",
    "\n",
    "# With this save the plots \n",
    "plot(fig,\n",
    "     image_filename='sankey_plot_1', \n",
    "     image='png', \n",
    "     image_width=1000, \n",
    "     image_height=600\n",
    ")\n",
    "# And shows the plot\n",
    "fig.show()"
   ]
  },
  {
   "cell_type": "code",
   "execution_count": 149,
   "id": "1025471f-c2ef-45fc-b96b-76601f55a2e8",
   "metadata": {},
   "outputs": [
    {
     "data": {
      "application/vnd.plotly.v1+json": {
       "config": {
        "plotlyServerURL": "https://plot.ly"
       },
       "data": [
        {
         "link": {
          "label": [
           "Outgoing: 1",
           "Outgoing: 1",
           "Outgoing: 1",
           "Outgoing: 1",
           "Outgoing: 1",
           "Outgoing: 1",
           "Outgoing: 1",
           "Outgoing: 1",
           "Outgoing: 1",
           "Outgoing: 1",
           "Outgoing: 1",
           "Outgoing: 1",
           "Outgoing: 1",
           "Outgoing: 1",
           "Outgoing: 1",
           "Outgoing: 1",
           "Outgoing: 1",
           "Outgoing: 1",
           "Outgoing: 1",
           "Outgoing: 1",
           "Outgoing: 1",
           "Outgoing: 1",
           "Outgoing: 1",
           "Outgoing: 1",
           "Outgoing: 1",
           "Outgoing: 1",
           "Outgoing: 1",
           "Outgoing: 1",
           "Outgoing: 1",
           "Outgoing: 1",
           "Outgoing: 1",
           "Outgoing: 1",
           "Outgoing: 1",
           "Outgoing: 1",
           "Outgoing: 1",
           "Outgoing: 1"
          ],
          "source": [
           10,
           10,
           10,
           10,
           15,
           10,
           15,
           10,
           10,
           11,
           10,
           10,
           20,
           10,
           10,
           20,
           10,
           15,
           19,
           22,
           21,
           5,
           16,
           24,
           0,
           8,
           3,
           6,
           2,
           9,
           26,
           7,
           1,
           14,
           4,
           18
          ],
          "target": [
           19,
           22,
           21,
           5,
           16,
           24,
           0,
           8,
           3,
           6,
           2,
           9,
           26,
           7,
           1,
           14,
           4,
           18,
           17,
           17,
           13,
           17,
           12,
           17,
           17,
           17,
           17,
           13,
           25,
           17,
           17,
           13,
           17,
           17,
           17,
           23
          ],
          "value": [
           1,
           1,
           1,
           1,
           1,
           1,
           1,
           1,
           1,
           1,
           1,
           1,
           1,
           1,
           1,
           1,
           1,
           1,
           1,
           1,
           1,
           1,
           1,
           1,
           1,
           1,
           1,
           1,
           1,
           1,
           1,
           1,
           1,
           1,
           1,
           1
          ]
         },
         "node": {
          "label": [
           "  Pathogen Characterisation",
           " Study Type",
           " PIO Recognition",
           "  Nursing",
           "  Adverse-Drug-Events",
           "  Neurosurgery",
           " Meta-Analysis",
           "  Clinical interventions",
           " Topic Subclasses",
           " RCTs on sodium-glucose co-transporter-2 inhibitors for type 2 diabetes mellitus treatment",
           "Literature Screening",
           "Evidence-Based Medicine",
           "Similarity Clustering",
           "Named Entity Recognition",
           " Risk Of Bias",
           "Literature-Based Discovery",
           " Thematically Coherent Biomedical Documents",
           "Text Classification",
           " Multi-document summarisation of Medical studies",
           " Combination of Selection Criteria",
           "Biomedical Literature Curation",
           " PICO Recognition",
           "  Moxibustion for improving cognitive impairment",
           "Text Summarization",
           "  Teratology",
           "Information Retrieval",
           " Quality of Evidence Assessment"
          ]
         },
         "type": "sankey"
        }
       ],
       "layout": {
        "autosize": true,
        "template": {
         "data": {
          "bar": [
           {
            "error_x": {
             "color": "#2a3f5f"
            },
            "error_y": {
             "color": "#2a3f5f"
            },
            "marker": {
             "line": {
              "color": "#E5ECF6",
              "width": 0.5
             },
             "pattern": {
              "fillmode": "overlay",
              "size": 10,
              "solidity": 0.2
             }
            },
            "type": "bar"
           }
          ],
          "barpolar": [
           {
            "marker": {
             "line": {
              "color": "#E5ECF6",
              "width": 0.5
             },
             "pattern": {
              "fillmode": "overlay",
              "size": 10,
              "solidity": 0.2
             }
            },
            "type": "barpolar"
           }
          ],
          "carpet": [
           {
            "aaxis": {
             "endlinecolor": "#2a3f5f",
             "gridcolor": "white",
             "linecolor": "white",
             "minorgridcolor": "white",
             "startlinecolor": "#2a3f5f"
            },
            "baxis": {
             "endlinecolor": "#2a3f5f",
             "gridcolor": "white",
             "linecolor": "white",
             "minorgridcolor": "white",
             "startlinecolor": "#2a3f5f"
            },
            "type": "carpet"
           }
          ],
          "choropleth": [
           {
            "colorbar": {
             "outlinewidth": 0,
             "ticks": ""
            },
            "type": "choropleth"
           }
          ],
          "contour": [
           {
            "colorbar": {
             "outlinewidth": 0,
             "ticks": ""
            },
            "colorscale": [
             [
              0,
              "#0d0887"
             ],
             [
              0.1111111111111111,
              "#46039f"
             ],
             [
              0.2222222222222222,
              "#7201a8"
             ],
             [
              0.3333333333333333,
              "#9c179e"
             ],
             [
              0.4444444444444444,
              "#bd3786"
             ],
             [
              0.5555555555555556,
              "#d8576b"
             ],
             [
              0.6666666666666666,
              "#ed7953"
             ],
             [
              0.7777777777777778,
              "#fb9f3a"
             ],
             [
              0.8888888888888888,
              "#fdca26"
             ],
             [
              1,
              "#f0f921"
             ]
            ],
            "type": "contour"
           }
          ],
          "contourcarpet": [
           {
            "colorbar": {
             "outlinewidth": 0,
             "ticks": ""
            },
            "type": "contourcarpet"
           }
          ],
          "heatmap": [
           {
            "colorbar": {
             "outlinewidth": 0,
             "ticks": ""
            },
            "colorscale": [
             [
              0,
              "#0d0887"
             ],
             [
              0.1111111111111111,
              "#46039f"
             ],
             [
              0.2222222222222222,
              "#7201a8"
             ],
             [
              0.3333333333333333,
              "#9c179e"
             ],
             [
              0.4444444444444444,
              "#bd3786"
             ],
             [
              0.5555555555555556,
              "#d8576b"
             ],
             [
              0.6666666666666666,
              "#ed7953"
             ],
             [
              0.7777777777777778,
              "#fb9f3a"
             ],
             [
              0.8888888888888888,
              "#fdca26"
             ],
             [
              1,
              "#f0f921"
             ]
            ],
            "type": "heatmap"
           }
          ],
          "heatmapgl": [
           {
            "colorbar": {
             "outlinewidth": 0,
             "ticks": ""
            },
            "colorscale": [
             [
              0,
              "#0d0887"
             ],
             [
              0.1111111111111111,
              "#46039f"
             ],
             [
              0.2222222222222222,
              "#7201a8"
             ],
             [
              0.3333333333333333,
              "#9c179e"
             ],
             [
              0.4444444444444444,
              "#bd3786"
             ],
             [
              0.5555555555555556,
              "#d8576b"
             ],
             [
              0.6666666666666666,
              "#ed7953"
             ],
             [
              0.7777777777777778,
              "#fb9f3a"
             ],
             [
              0.8888888888888888,
              "#fdca26"
             ],
             [
              1,
              "#f0f921"
             ]
            ],
            "type": "heatmapgl"
           }
          ],
          "histogram": [
           {
            "marker": {
             "pattern": {
              "fillmode": "overlay",
              "size": 10,
              "solidity": 0.2
             }
            },
            "type": "histogram"
           }
          ],
          "histogram2d": [
           {
            "colorbar": {
             "outlinewidth": 0,
             "ticks": ""
            },
            "colorscale": [
             [
              0,
              "#0d0887"
             ],
             [
              0.1111111111111111,
              "#46039f"
             ],
             [
              0.2222222222222222,
              "#7201a8"
             ],
             [
              0.3333333333333333,
              "#9c179e"
             ],
             [
              0.4444444444444444,
              "#bd3786"
             ],
             [
              0.5555555555555556,
              "#d8576b"
             ],
             [
              0.6666666666666666,
              "#ed7953"
             ],
             [
              0.7777777777777778,
              "#fb9f3a"
             ],
             [
              0.8888888888888888,
              "#fdca26"
             ],
             [
              1,
              "#f0f921"
             ]
            ],
            "type": "histogram2d"
           }
          ],
          "histogram2dcontour": [
           {
            "colorbar": {
             "outlinewidth": 0,
             "ticks": ""
            },
            "colorscale": [
             [
              0,
              "#0d0887"
             ],
             [
              0.1111111111111111,
              "#46039f"
             ],
             [
              0.2222222222222222,
              "#7201a8"
             ],
             [
              0.3333333333333333,
              "#9c179e"
             ],
             [
              0.4444444444444444,
              "#bd3786"
             ],
             [
              0.5555555555555556,
              "#d8576b"
             ],
             [
              0.6666666666666666,
              "#ed7953"
             ],
             [
              0.7777777777777778,
              "#fb9f3a"
             ],
             [
              0.8888888888888888,
              "#fdca26"
             ],
             [
              1,
              "#f0f921"
             ]
            ],
            "type": "histogram2dcontour"
           }
          ],
          "mesh3d": [
           {
            "colorbar": {
             "outlinewidth": 0,
             "ticks": ""
            },
            "type": "mesh3d"
           }
          ],
          "parcoords": [
           {
            "line": {
             "colorbar": {
              "outlinewidth": 0,
              "ticks": ""
             }
            },
            "type": "parcoords"
           }
          ],
          "pie": [
           {
            "automargin": true,
            "type": "pie"
           }
          ],
          "scatter": [
           {
            "fillpattern": {
             "fillmode": "overlay",
             "size": 10,
             "solidity": 0.2
            },
            "type": "scatter"
           }
          ],
          "scatter3d": [
           {
            "line": {
             "colorbar": {
              "outlinewidth": 0,
              "ticks": ""
             }
            },
            "marker": {
             "colorbar": {
              "outlinewidth": 0,
              "ticks": ""
             }
            },
            "type": "scatter3d"
           }
          ],
          "scattercarpet": [
           {
            "marker": {
             "colorbar": {
              "outlinewidth": 0,
              "ticks": ""
             }
            },
            "type": "scattercarpet"
           }
          ],
          "scattergeo": [
           {
            "marker": {
             "colorbar": {
              "outlinewidth": 0,
              "ticks": ""
             }
            },
            "type": "scattergeo"
           }
          ],
          "scattergl": [
           {
            "marker": {
             "colorbar": {
              "outlinewidth": 0,
              "ticks": ""
             }
            },
            "type": "scattergl"
           }
          ],
          "scattermapbox": [
           {
            "marker": {
             "colorbar": {
              "outlinewidth": 0,
              "ticks": ""
             }
            },
            "type": "scattermapbox"
           }
          ],
          "scatterpolar": [
           {
            "marker": {
             "colorbar": {
              "outlinewidth": 0,
              "ticks": ""
             }
            },
            "type": "scatterpolar"
           }
          ],
          "scatterpolargl": [
           {
            "marker": {
             "colorbar": {
              "outlinewidth": 0,
              "ticks": ""
             }
            },
            "type": "scatterpolargl"
           }
          ],
          "scatterternary": [
           {
            "marker": {
             "colorbar": {
              "outlinewidth": 0,
              "ticks": ""
             }
            },
            "type": "scatterternary"
           }
          ],
          "surface": [
           {
            "colorbar": {
             "outlinewidth": 0,
             "ticks": ""
            },
            "colorscale": [
             [
              0,
              "#0d0887"
             ],
             [
              0.1111111111111111,
              "#46039f"
             ],
             [
              0.2222222222222222,
              "#7201a8"
             ],
             [
              0.3333333333333333,
              "#9c179e"
             ],
             [
              0.4444444444444444,
              "#bd3786"
             ],
             [
              0.5555555555555556,
              "#d8576b"
             ],
             [
              0.6666666666666666,
              "#ed7953"
             ],
             [
              0.7777777777777778,
              "#fb9f3a"
             ],
             [
              0.8888888888888888,
              "#fdca26"
             ],
             [
              1,
              "#f0f921"
             ]
            ],
            "type": "surface"
           }
          ],
          "table": [
           {
            "cells": {
             "fill": {
              "color": "#EBF0F8"
             },
             "line": {
              "color": "white"
             }
            },
            "header": {
             "fill": {
              "color": "#C8D4E3"
             },
             "line": {
              "color": "white"
             }
            },
            "type": "table"
           }
          ]
         },
         "layout": {
          "annotationdefaults": {
           "arrowcolor": "#2a3f5f",
           "arrowhead": 0,
           "arrowwidth": 1
          },
          "autotypenumbers": "strict",
          "coloraxis": {
           "colorbar": {
            "outlinewidth": 0,
            "ticks": ""
           }
          },
          "colorscale": {
           "diverging": [
            [
             0,
             "#8e0152"
            ],
            [
             0.1,
             "#c51b7d"
            ],
            [
             0.2,
             "#de77ae"
            ],
            [
             0.3,
             "#f1b6da"
            ],
            [
             0.4,
             "#fde0ef"
            ],
            [
             0.5,
             "#f7f7f7"
            ],
            [
             0.6,
             "#e6f5d0"
            ],
            [
             0.7,
             "#b8e186"
            ],
            [
             0.8,
             "#7fbc41"
            ],
            [
             0.9,
             "#4d9221"
            ],
            [
             1,
             "#276419"
            ]
           ],
           "sequential": [
            [
             0,
             "#0d0887"
            ],
            [
             0.1111111111111111,
             "#46039f"
            ],
            [
             0.2222222222222222,
             "#7201a8"
            ],
            [
             0.3333333333333333,
             "#9c179e"
            ],
            [
             0.4444444444444444,
             "#bd3786"
            ],
            [
             0.5555555555555556,
             "#d8576b"
            ],
            [
             0.6666666666666666,
             "#ed7953"
            ],
            [
             0.7777777777777778,
             "#fb9f3a"
            ],
            [
             0.8888888888888888,
             "#fdca26"
            ],
            [
             1,
             "#f0f921"
            ]
           ],
           "sequentialminus": [
            [
             0,
             "#0d0887"
            ],
            [
             0.1111111111111111,
             "#46039f"
            ],
            [
             0.2222222222222222,
             "#7201a8"
            ],
            [
             0.3333333333333333,
             "#9c179e"
            ],
            [
             0.4444444444444444,
             "#bd3786"
            ],
            [
             0.5555555555555556,
             "#d8576b"
            ],
            [
             0.6666666666666666,
             "#ed7953"
            ],
            [
             0.7777777777777778,
             "#fb9f3a"
            ],
            [
             0.8888888888888888,
             "#fdca26"
            ],
            [
             1,
             "#f0f921"
            ]
           ]
          },
          "colorway": [
           "#636efa",
           "#EF553B",
           "#00cc96",
           "#ab63fa",
           "#FFA15A",
           "#19d3f3",
           "#FF6692",
           "#B6E880",
           "#FF97FF",
           "#FECB52"
          ],
          "font": {
           "color": "#2a3f5f"
          },
          "geo": {
           "bgcolor": "white",
           "lakecolor": "white",
           "landcolor": "#E5ECF6",
           "showlakes": true,
           "showland": true,
           "subunitcolor": "white"
          },
          "hoverlabel": {
           "align": "left"
          },
          "hovermode": "closest",
          "mapbox": {
           "style": "light"
          },
          "paper_bgcolor": "white",
          "plot_bgcolor": "#E5ECF6",
          "polar": {
           "angularaxis": {
            "gridcolor": "white",
            "linecolor": "white",
            "ticks": ""
           },
           "bgcolor": "#E5ECF6",
           "radialaxis": {
            "gridcolor": "white",
            "linecolor": "white",
            "ticks": ""
           }
          },
          "scene": {
           "xaxis": {
            "backgroundcolor": "#E5ECF6",
            "gridcolor": "white",
            "gridwidth": 2,
            "linecolor": "white",
            "showbackground": true,
            "ticks": "",
            "zerolinecolor": "white"
           },
           "yaxis": {
            "backgroundcolor": "#E5ECF6",
            "gridcolor": "white",
            "gridwidth": 2,
            "linecolor": "white",
            "showbackground": true,
            "ticks": "",
            "zerolinecolor": "white"
           },
           "zaxis": {
            "backgroundcolor": "#E5ECF6",
            "gridcolor": "white",
            "gridwidth": 2,
            "linecolor": "white",
            "showbackground": true,
            "ticks": "",
            "zerolinecolor": "white"
           }
          },
          "shapedefaults": {
           "line": {
            "color": "#2a3f5f"
           }
          },
          "ternary": {
           "aaxis": {
            "gridcolor": "white",
            "linecolor": "white",
            "ticks": ""
           },
           "baxis": {
            "gridcolor": "white",
            "linecolor": "white",
            "ticks": ""
           },
           "bgcolor": "#E5ECF6",
           "caxis": {
            "gridcolor": "white",
            "linecolor": "white",
            "ticks": ""
           }
          },
          "title": {
           "x": 0.05
          },
          "xaxis": {
           "automargin": true,
           "gridcolor": "white",
           "linecolor": "white",
           "ticks": "",
           "title": {
            "standoff": 15
           },
           "zerolinecolor": "white",
           "zerolinewidth": 2
          },
          "yaxis": {
           "automargin": true,
           "gridcolor": "white",
           "linecolor": "white",
           "ticks": "",
           "title": {
            "standoff": 15
           },
           "zerolinecolor": "white",
           "zerolinewidth": 2
          }
         }
        }
       }
      },
      "image/png": "[encoded data removed]",
      "text/html": [
       "<div>                            <div id=\"d751b8b9-6716-4aaa-8105-d1d54bd4922a\" class=\"plotly-graph-div\" style=\"height:525px; width:100%;\"></div>            <script type=\"text/javascript\">                require([\"plotly\"], function(Plotly) {                    window.PLOTLYENV=window.PLOTLYENV || {};                                    if (document.getElementById(\"d751b8b9-6716-4aaa-8105-d1d54bd4922a\")) {                    Plotly.newPlot(                        \"d751b8b9-6716-4aaa-8105-d1d54bd4922a\",                        [{\"link\":{\"label\":[\"Outgoing: 1\",\"Outgoing: 1\",\"Outgoing: 1\",\"Outgoing: 1\",\"Outgoing: 1\",\"Outgoing: 1\",\"Outgoing: 1\",\"Outgoing: 1\",\"Outgoing: 1\",\"Outgoing: 1\",\"Outgoing: 1\",\"Outgoing: 1\",\"Outgoing: 1\",\"Outgoing: 1\",\"Outgoing: 1\",\"Outgoing: 1\",\"Outgoing: 1\",\"Outgoing: 1\",\"Outgoing: 1\",\"Outgoing: 1\",\"Outgoing: 1\",\"Outgoing: 1\",\"Outgoing: 1\",\"Outgoing: 1\",\"Outgoing: 1\",\"Outgoing: 1\",\"Outgoing: 1\",\"Outgoing: 1\",\"Outgoing: 1\",\"Outgoing: 1\",\"Outgoing: 1\",\"Outgoing: 1\",\"Outgoing: 1\",\"Outgoing: 1\",\"Outgoing: 1\",\"Outgoing: 1\"],\"source\":[10,10,10,10,15,10,15,10,10,11,10,10,20,10,10,20,10,15,19,22,21,5,16,24,0,8,3,6,2,9,26,7,1,14,4,18],\"target\":[19,22,21,5,16,24,0,8,3,6,2,9,26,7,1,14,4,18,17,17,13,17,12,17,17,17,17,13,25,17,17,13,17,17,17,23],\"value\":[1,1,1,1,1,1,1,1,1,1,1,1,1,1,1,1,1,1,1,1,1,1,1,1,1,1,1,1,1,1,1,1,1,1,1,1]},\"node\":{\"label\":[\"  Pathogen Characterisation\",\" Study Type\",\" PIO Recognition\",\"  Nursing\",\"  Adverse-Drug-Events\",\"  Neurosurgery\",\" Meta-Analysis\",\"  Clinical interventions\",\" Topic Subclasses\",\" RCTs on sodium-glucose co-transporter-2 inhibitors for type 2 diabetes mellitus treatment\",\"Literature Screening\",\"Evidence-Based Medicine\",\"Similarity Clustering\",\"Named Entity Recognition\",\" Risk Of Bias\",\"Literature-Based Discovery\",\" Thematically Coherent Biomedical Documents\",\"Text Classification\",\" Multi-document summarisation of Medical studies\",\" Combination of Selection Criteria\",\"Biomedical Literature Curation\",\" PICO Recognition\",\"  Moxibustion for improving cognitive impairment\",\"Text Summarization\",\"  Teratology\",\"Information Retrieval\",\" Quality of Evidence Assessment\"]},\"type\":\"sankey\"}],                        {\"template\":{\"data\":{\"histogram2dcontour\":[{\"type\":\"histogram2dcontour\",\"colorbar\":{\"outlinewidth\":0,\"ticks\":\"\"},\"colorscale\":[[0.0,\"#0d0887\"],[0.1111111111111111,\"#46039f\"],[0.2222222222222222,\"#7201a8\"],[0.3333333333333333,\"#9c179e\"],[0.4444444444444444,\"#bd3786\"],[0.5555555555555556,\"#d8576b\"],[0.6666666666666666,\"#ed7953\"],[0.7777777777777778,\"#fb9f3a\"],[0.8888888888888888,\"#fdca26\"],[1.0,\"#f0f921\"]]}],\"choropleth\":[{\"type\":\"choropleth\",\"colorbar\":{\"outlinewidth\":0,\"ticks\":\"\"}}],\"histogram2d\":[{\"type\":\"histogram2d\",\"colorbar\":{\"outlinewidth\":0,\"ticks\":\"\"},\"colorscale\":[[0.0,\"#0d0887\"],[0.1111111111111111,\"#46039f\"],[0.2222222222222222,\"#7201a8\"],[0.3333333333333333,\"#9c179e\"],[0.4444444444444444,\"#bd3786\"],[0.5555555555555556,\"#d8576b\"],[0.6666666666666666,\"#ed7953\"],[0.7777777777777778,\"#fb9f3a\"],[0.8888888888888888,\"#fdca26\"],[1.0,\"#f0f921\"]]}],\"heatmap\":[{\"type\":\"heatmap\",\"colorbar\":{\"outlinewidth\":0,\"ticks\":\"\"},\"colorscale\":[[0.0,\"#0d0887\"],[0.1111111111111111,\"#46039f\"],[0.2222222222222222,\"#7201a8\"],[0.3333333333333333,\"#9c179e\"],[0.4444444444444444,\"#bd3786\"],[0.5555555555555556,\"#d8576b\"],[0.6666666666666666,\"#ed7953\"],[0.7777777777777778,\"#fb9f3a\"],[0.8888888888888888,\"#fdca26\"],[1.0,\"#f0f921\"]]}],\"heatmapgl\":[{\"type\":\"heatmapgl\",\"colorbar\":{\"outlinewidth\":0,\"ticks\":\"\"},\"colorscale\":[[0.0,\"#0d0887\"],[0.1111111111111111,\"#46039f\"],[0.2222222222222222,\"#7201a8\"],[0.3333333333333333,\"#9c179e\"],[0.4444444444444444,\"#bd3786\"],[0.5555555555555556,\"#d8576b\"],[0.6666666666666666,\"#ed7953\"],[0.7777777777777778,\"#fb9f3a\"],[0.8888888888888888,\"#fdca26\"],[1.0,\"#f0f921\"]]}],\"contourcarpet\":[{\"type\":\"contourcarpet\",\"colorbar\":{\"outlinewidth\":0,\"ticks\":\"\"}}],\"contour\":[{\"type\":\"contour\",\"colorbar\":{\"outlinewidth\":0,\"ticks\":\"\"},\"colorscale\":[[0.0,\"#0d0887\"],[0.1111111111111111,\"#46039f\"],[0.2222222222222222,\"#7201a8\"],[0.3333333333333333,\"#9c179e\"],[0.4444444444444444,\"#bd3786\"],[0.5555555555555556,\"#d8576b\"],[0.6666666666666666,\"#ed7953\"],[0.7777777777777778,\"#fb9f3a\"],[0.8888888888888888,\"#fdca26\"],[1.0,\"#f0f921\"]]}],\"surface\":[{\"type\":\"surface\",\"colorbar\":{\"outlinewidth\":0,\"ticks\":\"\"},\"colorscale\":[[0.0,\"#0d0887\"],[0.1111111111111111,\"#46039f\"],[0.2222222222222222,\"#7201a8\"],[0.3333333333333333,\"#9c179e\"],[0.4444444444444444,\"#bd3786\"],[0.5555555555555556,\"#d8576b\"],[0.6666666666666666,\"#ed7953\"],[0.7777777777777778,\"#fb9f3a\"],[0.8888888888888888,\"#fdca26\"],[1.0,\"#f0f921\"]]}],\"mesh3d\":[{\"type\":\"mesh3d\",\"colorbar\":{\"outlinewidth\":0,\"ticks\":\"\"}}],\"scatter\":[{\"fillpattern\":{\"fillmode\":\"overlay\",\"size\":10,\"solidity\":0.2},\"type\":\"scatter\"}],\"parcoords\":[{\"type\":\"parcoords\",\"line\":{\"colorbar\":{\"outlinewidth\":0,\"ticks\":\"\"}}}],\"scatterpolargl\":[{\"type\":\"scatterpolargl\",\"marker\":{\"colorbar\":{\"outlinewidth\":0,\"ticks\":\"\"}}}],\"bar\":[{\"error_x\":{\"color\":\"#2a3f5f\"},\"error_y\":{\"color\":\"#2a3f5f\"},\"marker\":{\"line\":{\"color\":\"#E5ECF6\",\"width\":0.5},\"pattern\":{\"fillmode\":\"overlay\",\"size\":10,\"solidity\":0.2}},\"type\":\"bar\"}],\"scattergeo\":[{\"type\":\"scattergeo\",\"marker\":{\"colorbar\":{\"outlinewidth\":0,\"ticks\":\"\"}}}],\"scatterpolar\":[{\"type\":\"scatterpolar\",\"marker\":{\"colorbar\":{\"outlinewidth\":0,\"ticks\":\"\"}}}],\"histogram\":[{\"marker\":{\"pattern\":{\"fillmode\":\"overlay\",\"size\":10,\"solidity\":0.2}},\"type\":\"histogram\"}],\"scattergl\":[{\"type\":\"scattergl\",\"marker\":{\"colorbar\":{\"outlinewidth\":0,\"ticks\":\"\"}}}],\"scatter3d\":[{\"type\":\"scatter3d\",\"line\":{\"colorbar\":{\"outlinewidth\":0,\"ticks\":\"\"}},\"marker\":{\"colorbar\":{\"outlinewidth\":0,\"ticks\":\"\"}}}],\"scattermapbox\":[{\"type\":\"scattermapbox\",\"marker\":{\"colorbar\":{\"outlinewidth\":0,\"ticks\":\"\"}}}],\"scatterternary\":[{\"type\":\"scatterternary\",\"marker\":{\"colorbar\":{\"outlinewidth\":0,\"ticks\":\"\"}}}],\"scattercarpet\":[{\"type\":\"scattercarpet\",\"marker\":{\"colorbar\":{\"outlinewidth\":0,\"ticks\":\"\"}}}],\"carpet\":[{\"aaxis\":{\"endlinecolor\":\"#2a3f5f\",\"gridcolor\":\"white\",\"linecolor\":\"white\",\"minorgridcolor\":\"white\",\"startlinecolor\":\"#2a3f5f\"},\"baxis\":{\"endlinecolor\":\"#2a3f5f\",\"gridcolor\":\"white\",\"linecolor\":\"white\",\"minorgridcolor\":\"white\",\"startlinecolor\":\"#2a3f5f\"},\"type\":\"carpet\"}],\"table\":[{\"cells\":{\"fill\":{\"color\":\"#EBF0F8\"},\"line\":{\"color\":\"white\"}},\"header\":{\"fill\":{\"color\":\"#C8D4E3\"},\"line\":{\"color\":\"white\"}},\"type\":\"table\"}],\"barpolar\":[{\"marker\":{\"line\":{\"color\":\"#E5ECF6\",\"width\":0.5},\"pattern\":{\"fillmode\":\"overlay\",\"size\":10,\"solidity\":0.2}},\"type\":\"barpolar\"}],\"pie\":[{\"automargin\":true,\"type\":\"pie\"}]},\"layout\":{\"autotypenumbers\":\"strict\",\"colorway\":[\"#636efa\",\"#EF553B\",\"#00cc96\",\"#ab63fa\",\"#FFA15A\",\"#19d3f3\",\"#FF6692\",\"#B6E880\",\"#FF97FF\",\"#FECB52\"],\"font\":{\"color\":\"#2a3f5f\"},\"hovermode\":\"closest\",\"hoverlabel\":{\"align\":\"left\"},\"paper_bgcolor\":\"white\",\"plot_bgcolor\":\"#E5ECF6\",\"polar\":{\"bgcolor\":\"#E5ECF6\",\"angularaxis\":{\"gridcolor\":\"white\",\"linecolor\":\"white\",\"ticks\":\"\"},\"radialaxis\":{\"gridcolor\":\"white\",\"linecolor\":\"white\",\"ticks\":\"\"}},\"ternary\":{\"bgcolor\":\"#E5ECF6\",\"aaxis\":{\"gridcolor\":\"white\",\"linecolor\":\"white\",\"ticks\":\"\"},\"baxis\":{\"gridcolor\":\"white\",\"linecolor\":\"white\",\"ticks\":\"\"},\"caxis\":{\"gridcolor\":\"white\",\"linecolor\":\"white\",\"ticks\":\"\"}},\"coloraxis\":{\"colorbar\":{\"outlinewidth\":0,\"ticks\":\"\"}},\"colorscale\":{\"sequential\":[[0.0,\"#0d0887\"],[0.1111111111111111,\"#46039f\"],[0.2222222222222222,\"#7201a8\"],[0.3333333333333333,\"#9c179e\"],[0.4444444444444444,\"#bd3786\"],[0.5555555555555556,\"#d8576b\"],[0.6666666666666666,\"#ed7953\"],[0.7777777777777778,\"#fb9f3a\"],[0.8888888888888888,\"#fdca26\"],[1.0,\"#f0f921\"]],\"sequentialminus\":[[0.0,\"#0d0887\"],[0.1111111111111111,\"#46039f\"],[0.2222222222222222,\"#7201a8\"],[0.3333333333333333,\"#9c179e\"],[0.4444444444444444,\"#bd3786\"],[0.5555555555555556,\"#d8576b\"],[0.6666666666666666,\"#ed7953\"],[0.7777777777777778,\"#fb9f3a\"],[0.8888888888888888,\"#fdca26\"],[1.0,\"#f0f921\"]],\"diverging\":[[0,\"#8e0152\"],[0.1,\"#c51b7d\"],[0.2,\"#de77ae\"],[0.3,\"#f1b6da\"],[0.4,\"#fde0ef\"],[0.5,\"#f7f7f7\"],[0.6,\"#e6f5d0\"],[0.7,\"#b8e186\"],[0.8,\"#7fbc41\"],[0.9,\"#4d9221\"],[1,\"#276419\"]]},\"xaxis\":{\"gridcolor\":\"white\",\"linecolor\":\"white\",\"ticks\":\"\",\"title\":{\"standoff\":15},\"zerolinecolor\":\"white\",\"automargin\":true,\"zerolinewidth\":2},\"yaxis\":{\"gridcolor\":\"white\",\"linecolor\":\"white\",\"ticks\":\"\",\"title\":{\"standoff\":15},\"zerolinecolor\":\"white\",\"automargin\":true,\"zerolinewidth\":2},\"scene\":{\"xaxis\":{\"backgroundcolor\":\"#E5ECF6\",\"gridcolor\":\"white\",\"linecolor\":\"white\",\"showbackground\":true,\"ticks\":\"\",\"zerolinecolor\":\"white\",\"gridwidth\":2},\"yaxis\":{\"backgroundcolor\":\"#E5ECF6\",\"gridcolor\":\"white\",\"linecolor\":\"white\",\"showbackground\":true,\"ticks\":\"\",\"zerolinecolor\":\"white\",\"gridwidth\":2},\"zaxis\":{\"backgroundcolor\":\"#E5ECF6\",\"gridcolor\":\"white\",\"linecolor\":\"white\",\"showbackground\":true,\"ticks\":\"\",\"zerolinecolor\":\"white\",\"gridwidth\":2}},\"shapedefaults\":{\"line\":{\"color\":\"#2a3f5f\"}},\"annotationdefaults\":{\"arrowcolor\":\"#2a3f5f\",\"arrowhead\":0,\"arrowwidth\":1},\"geo\":{\"bgcolor\":\"white\",\"landcolor\":\"#E5ECF6\",\"subunitcolor\":\"white\",\"showland\":true,\"showlakes\":true,\"lakecolor\":\"white\"},\"title\":{\"x\":0.05},\"mapbox\":{\"style\":\"light\"}}}},                        {\"responsive\": true}                    ).then(function(){\n",
       "                            \n",
       "var gd = document.getElementById('d751b8b9-6716-4aaa-8105-d1d54bd4922a');\n",
       "var x = new MutationObserver(function (mutations, observer) {{\n",
       "        var display = window.getComputedStyle(gd).display;\n",
       "        if (!display || display === 'none') {{\n",
       "            console.log([gd, 'removed!']);\n",
       "            Plotly.purge(gd);\n",
       "            observer.disconnect();\n",
       "        }}\n",
       "}});\n",
       "\n",
       "// Listen for the removal of the full notebook cells\n",
       "var notebookContainer = gd.closest('#notebook-container');\n",
       "if (notebookContainer) {{\n",
       "    x.observe(notebookContainer, {childList: true});\n",
       "}}\n",
       "\n",
       "// Listen for the clearing of the current output cell\n",
       "var outputEl = gd.closest('.output');\n",
       "if (outputEl) {{\n",
       "    x.observe(outputEl, {childList: true});\n",
       "}}\n",
       "\n",
       "                        })                };                });            </script>        </div>"
      ]
     },
     "metadata": {},
     "output_type": "display_data"
    }
   ],
   "source": [
    "l1 = df[\"Level_1\"].to_list()\n",
    "l2 = df[\"Level_2\"].to_list()\n",
    "l3 = df[\"Target application\"].to_list()\n",
    "connect_values = df[\"Count\"].to_list()\n",
    "\n",
    "levels_combined = list(set(l1 + l2 + l3))\n",
    "node_dict = {y: x for x, y in enumerate(levels_combined)}\n",
    "\n",
    "source = l1 + l2\n",
    "target = l2 + l3\n",
    "values = connect_values * 2  # Duplicate for each level\n",
    "\n",
    "source_node = [node_dict[x] for x in source]\n",
    "target_node = [node_dict[x] for x in target]\n",
    "\n",
    "values_combined = [f'Outgoing: {value}' for value in values]  # Include \"Outgoing:\"\n",
    "\n",
    "fig = go.Figure(\n",
    "    data=[go.Sankey(\n",
    "        node=dict(\n",
    "            label=levels_combined\n",
    "        ),\n",
    "        link=dict(\n",
    "            source=source_node,\n",
    "            target=target_node,\n",
    "            value=values,\n",
    "            label=values_combined  # Use the modified values_combined list\n",
    "        ))])\n",
    "\n",
    "# With this save the plots\n",
    "plot(fig,\n",
    "     image_filename='sankey_plot_1',\n",
    "     image='png',\n",
    "     image_width=1000,\n",
    "     image_height=600)\n",
    "\n",
    "# And show the plot\n",
    "fig.show()\n"
   ]
  },
  {
   "cell_type": "markdown",
   "id": "e7417c27-233f-45f7-aee5-4b95f9b90206",
   "metadata": {},
   "source": [
    "# viz from another paper\n",
    "vis https://www.sciencedirect.com/science/article/pii/S0950584921000690"
   ]
  },
  {
   "cell_type": "code",
   "execution_count": 584,
   "id": "bbfd8b34-61ee-4854-bcbd-f767326d8ffa",
   "metadata": {},
   "outputs": [
    {
     "data": {
      "image/png": "[encoded data removed]",
      "text/plain": [
       "<Figure size 720x432 with 1 Axes>"
      ]
     },
     "metadata": {
      "needs_background": "light"
     },
     "output_type": "display_data"
    }
   ],
   "source": [
    "import matplotlib.pyplot as plt\n",
    "\n",
    "categories = ['(Semi) automate citation screening', '(Semi) automate search string building', '(Semi) automate data extraction', '(Semi) automate quality assessment)']\n",
    "nr_studies = [25, 6, 4, 1]\n",
    "\n",
    "sorted_indices = sorted(range(len(nr_studies)), key=lambda k: nr_studies[k])\n",
    "sorted_categories = [categories[i] for i in sorted_indices]\n",
    "sorted_nr_studies = [nr_studies[i] for i in sorted_indices]\n",
    "\n",
    "fig, ax = plt.subplots(figsize=(10, 6))\n",
    "\n",
    "# Create bars and set their zorder to be higher than the grid lines\n",
    "bars = ax.barh(sorted_categories, sorted_nr_studies, zorder=1)\n",
    "\n",
    "# Add labels on the bars\n",
    "for bar in bars:\n",
    "    value = bar.get_width()\n",
    "    ax.text(value + 0.3, bar.get_y() + bar.get_height()/2, str(value), va='center', color='black', fontsize=14)\n",
    "\n",
    "ax.set_axisbelow(True)\n",
    "ax.xaxis.grid(color='gray', alpha=0.5)\n",
    "\n",
    "plt.ylabel('Categories', fontsize=12)  # Increase font size for ylabel\n",
    "plt.xlabel('Number of Studies', fontsize=12)  # Increase font size for xlabel\n",
    "plt.title('Number of Studies per Category', fontsize=13)  # Increase font size for title\n",
    "\n",
    "# Increase font size of tick labels on both axes\n",
    "ax.tick_params(axis='both', which='major', labelsize=12)\n",
    "\n",
    "plt.tight_layout()\n",
    "\n",
    "# Save the figure\n",
    "plt.savefig('bar_chart.png', dpi=300)  # Change the filename and dpi as needed\n",
    "\n",
    "plt.show()\n"
   ]
  },
  {
   "cell_type": "code",
   "execution_count": 581,
   "id": "4f3559e4-569d-4142-90cb-1075bba2ee8b",
   "metadata": {},
   "outputs": [
    {
     "name": "stdout",
     "output_type": "stream",
     "text": [
      "Literature Review.ipynb\n",
      "README.md\n",
      "bar_chart_sr_automation_summer_school.png\n",
      "\u001b[34mdata\u001b[m\u001b[m\n",
      "temp-plot.html\n",
      "\u001b[34mviz\u001b[m\u001b[m\n"
     ]
    }
   ],
   "source": [
    "!ls"
   ]
  },
  {
   "cell_type": "code",
   "execution_count": null,
   "id": "d168d539-ffd6-4490-beca-ccf8b498ee0e",
   "metadata": {},
   "outputs": [],
   "source": []
  }
 ],
 "metadata": {
  "kernelspec": {
   "display_name": "Python 3 (ipykernel)",
   "language": "python",
   "name": "python3"
  },
  "language_info": {
   "codemirror_mode": {
    "name": "ipython",
    "version": 3
   },
   "file_extension": ".py",
   "mimetype": "text/x-python",
   "name": "python",
   "nbconvert_exporter": "python",
   "pygments_lexer": "ipython3",
   "version": "3.9.1"
  }
 },
 "nbformat": 4,
 "nbformat_minor": 5
}
